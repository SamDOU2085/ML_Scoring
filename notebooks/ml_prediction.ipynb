{
 "cells": [
  {
   "cell_type": "code",
   "execution_count": 154,
   "id": "588e942b-72b9-4b2d-948e-2c19be8fa046",
   "metadata": {},
   "outputs": [
    {
     "name": "stdout",
     "output_type": "stream",
     "text": [
      "['Version: 2,mlflow-artifacts:/0/9c4191d3dbd84b59a37d5ecce9a48cf4/artifacts/final_model.joblib', 'Version: 1,mlflow-artifacts:/0/9016ad5724b64ad79c16f1608393b39b/artifacts/final_model.joblib']\n",
      "Path to model: mlartifacts/0/9c4191d3dbd84b59a37d5ecce9a48cf4/artifacts/final_model.joblib\n"
     ]
    },
    {
     "name": "stderr",
     "output_type": "stream",
     "text": [
      "/tmp/ipykernel_14428/3234966309.py:47: FutureWarning: \n",
      "\n",
      "Passing `palette` without assigning `hue` is deprecated and will be removed in v0.14.0. Assign the `x` variable to `hue` and set `legend=False` for the same effect.\n",
      "\n",
      "  sns.barplot(x=[\"Accepted\", \"Failure\"], y=predicted_probs, palette=colors)\n"
     ]
    },
    {
     "data": {
      "image/png": "[encoded data removed]",
      "text/plain": [
       "<Figure size 640x480 with 1 Axes>"
      ]
     },
     "metadata": {},
     "output_type": "display_data"
    },
    {
     "name": "stderr",
     "output_type": "stream",
     "text": [
      "2024/09/29 14:38:25 INFO mlflow.tracking._tracking_service.client: 🏃 View run fearless-robin-869 at: http://localhost:5000/#/experiments/0/runs/1183b1bd0c834c24bc98ac9a28ac74ea.\n",
      "2024/09/29 14:38:25 INFO mlflow.tracking._tracking_service.client: 🧪 View experiment at: http://localhost:5000/#/experiments/0.\n"
     ]
    },
    {
     "name": "stdout",
     "output_type": "stream",
     "text": [
      "Model run and artifacts logged in MLflow\n"
     ]
    }
   ],
   "source": [
    "import mlflow\n",
    "import mlflow.pyfunc\n",
    "from mlflow import MlflowClient\n",
    "import pandas as pd\n",
    "import joblib\n",
    "import seaborn as sns\n",
    "import matplotlib.pyplot as plt\n",
    "import os\n",
    "\n",
    "# Load the input data\n",
    "data_tests_app = pd.read_csv(\"data_prod.csv\", index_col=0).drop(\"TARGET\", axis=1)\n",
    "INPUT_EXAMPLE = pd.DataFrame(data_tests_app.iloc[0]).T\n",
    "\n",
    "# Define the model name\n",
    "best_model_name = \"LogisticRegression_F10\"\n",
    "\n",
    "# Connect to MLflow server\n",
    "mlflow.set_tracking_uri(\"http://localhost:5000\")\n",
    "client = mlflow.tracking.MlflowClient()\n",
    "\n",
    "# Fetch all registered versions of the model\n",
    "registered_models = client.search_model_versions(f\"name='{best_model_name}'\")\n",
    "list_versions = []\n",
    "for model in registered_models:\n",
    "    list_versions.append(f\"Version: {model.version},{model.source}\")\n",
    "print(list_versions)\n",
    "# Get the model path\n",
    "version = list_versions[0].split(\",\")[0]\n",
    "path_model = list_versions[0].split(\",\")[1].replace(\"mlflow-artifacts:\", \"mlartifacts\")\n",
    "print(\"Path to model:\",path_model)\n",
    "loaded_model = joblib.load(path_model)\n",
    "\n",
    "# Log the model version to MLflow\n",
    "with mlflow.start_run() as run:\n",
    "    mlflow.log_param(\"model_version\", version)\n",
    "    \n",
    "    # Predict and log outputs\n",
    "    default_class = loaded_model.predict(INPUT_EXAMPLE)[0]\n",
    "    probas = loaded_model.predict_proba(INPUT_EXAMPLE)[0]\n",
    "    mlflow.log_metric(\"Default predicted class\", int(default_class))\n",
    "    mlflow.log_metric(\"Negative class membership\", probas[0])\n",
    "    mlflow.log_metric(\"Positive class membership\", probas[1])\n",
    "    \n",
    "    # Create the barplot\n",
    "    predicted_probs = loaded_model.predict_proba(INPUT_EXAMPLE)[0]\n",
    "    colors = [\"green\", \"red\"]\n",
    "    sns.barplot(x=[\"Accepted\", \"Failure\"], y=predicted_probs, palette=colors)\n",
    "    plt.ylim(0, 1)\n",
    "    plt.xlabel(\"Predicted status\")\n",
    "    plt.ylabel(\"Score\")\n",
    "    \n",
    "    # Save the plot to a file and log it to MLflow\n",
    "    plot_path = \"barplot_prediction.png\"\n",
    "    plt.savefig(plot_path)\n",
    "    mlflow.log_artifact(plot_path)\n",
    "    plt.show()\n",
    "\n",
    "# Optionally, register or load the model using MLflow\n",
    "# mlflow.pyfunc.log_model(\"logreg_model\", artifact_path=\"models\", python_model=loaded_model)\n",
    "\n",
    "print(\"Model run and artifacts logged in MLflow\")"
   ]
  },
  {
   "cell_type": "code",
   "execution_count": null,
   "id": "59b7ffff-3197-4c18-8070-8b1b41a73560",
   "metadata": {},
   "outputs": [],
   "source": []
  }
 ],
 "metadata": {
  "kernelspec": {
   "display_name": "Python 3 (ipykernel)",
   "language": "python",
   "name": "python3"
  },
  "language_info": {
   "codemirror_mode": {
    "name": "ipython",
    "version": 3
   },
   "file_extension": ".py",
   "mimetype": "text/x-python",
   "name": "python",
   "nbconvert_exporter": "python",
   "pygments_lexer": "ipython3",
   "version": "3.12.4"
  }
 },
 "nbformat": 4,
 "nbformat_minor": 5
}
