{
 "cells": [
  {
   "cell_type": "code",
   "execution_count": 55,
   "metadata": {},
   "outputs": [],
   "source": [
    "from kernel_feature_eng import *\n",
    "from functions import *\n",
    "import numpy as np\n",
    "import pandas as pd \n",
    "from sklearn.preprocessing import LabelEncoder\n",
    "import os\n",
    "import warnings\n",
    "import matplotlib.pyplot as plt\n",
    "import seaborn as sns\n",
    "from sklearn.metrics import make_scorer, precision_score, recall_score, f1_score, roc_auc_score\n",
    "from sklearn.model_selection import cross_validate, RepeatedKFold\n",
    "from sklearn.preprocessing import StandardScaler\n",
    "from sklearn.pipeline import Pipeline\n",
    "from sklearn.compose import ColumnTransformer\n",
    "from sklearn.preprocessing import StandardScaler\n",
    "from sklearn.model_selection import RandomizedSearchCV\n",
    "from sklearn.feature_selection import RFE\n",
    "from sklearn.linear_model import LogisticRegression\n",
    "from sklearn.metrics import make_scorer, precision_score, recall_score, f1_score, roc_auc_score\n",
    "from sklearn.ensemble import RandomForestClassifier, GradientBoostingClassifier\n",
    "import time\n",
    "from sklearn.impute import KNNImputer\n",
    "from scipy.stats import spearmanr, uniform, randint,loguniform\n",
    "import seaborn as sb\n",
    "warnings.filterwarnings('ignore')"
   ]
  },
  {
   "cell_type": "code",
   "execution_count": 56,
   "metadata": {},
   "outputs": [],
   "source": [
    "def which_binvariables(props):\n",
    "    binaryvariables = []\n",
    "    for key, values in col_caracteristics.items():\n",
    "        if values['binaire']:\n",
    "            binaryvariables.append(key)\n",
    "    return(binaryvariables)"
   ]
  },
  {
   "cell_type": "markdown",
   "metadata": {},
   "source": [
    "# Chargement de la description des colonnes (train/test.csv)\n",
    "Ces lignes de code sont utilisées pour lire un fichier CSV, en extraire des informations, et les transformer en un dictionnaire Python.\n",
    "\n",
    "1. **Lecture du fichier CSV**:\n",
    "    ```python\n",
    "    description_columns = pd.read_csv('../data/HomeCredit_columns_description.csv', sep=\",\", index_col=0, header=0, encoding='latin1')\n",
    "    ```\n",
    "   - **`pd.read_csv()`**: Cette fonction de la bibliothèque `pandas` lit un fichier CSV et le convertit en un DataFrame, qui est une structure de données tabulaire.\n",
    "   - **`'../data/HomeCredit_columns_description.csv'`**: Il s'agit du chemin vers le fichier CSV à lire.\n",
    "   - **`sep=\",\"`**: Spécifie que les colonnes du CSV sont séparées par des virgules.\n",
    "   - **`index_col=0`**: Indique que la première colonne du CSV (index 0) doit être utilisée comme index du DataFrame.\n",
    "   - **`header=0`**: Indique que la première ligne du fichier CSV contient les noms des colonnes.\n",
    "   - **`encoding='latin1'`**: Spécifie l'encodage utilisé pour lire le fichier (ici, 'latin1').\n",
    "\n",
    "2. **Création d'un dictionnaire**:\n",
    "    ```python\n",
    "    description_columns_dictionary = dict(zip(description_columns['Row'], description_columns['Description']))\n",
    "    ```\n",
    "   - **`description_columns['Row']`**: Accède à la colonne intitulée 'Row' dans le DataFrame.\n",
    "   - **`description_columns['Description']`**: Accède à la colonne intitulée 'Description' dans le DataFrame.\n",
    "   - **`zip(description_columns['Row'], description_columns['Description'])`**: Combine les deux colonnes en paires (clé, valeur).\n",
    "   - **`dict()`**: Convertit ces paires en un dictionnaire Python où les éléments de la colonne 'Row' sont les clés et les éléments de la colonne 'Description' sont les valeurs.\n",
    "\n",
    "3. **Affichage du dictionnaire**:\n",
    "    ```python\n",
    "    description_columns_dictionary\n",
    "    ```\n",
    "   - Ce dictionnaire contient donc une correspondance entre les noms des colonnes (clés) et leurs descriptions (valeurs), permettant un accès rapide et facile aux descriptions des colonnes dans le jeu de données.\n",
    "\n",
    "**En résumé**: Ces lignes de code lisent un fichier CSV contenant des descriptions de colonnes, puis transforment ces descriptions en un dictionnaire pour une utilisation plus pratique dans le code."
   ]
  },
  {
   "cell_type": "code",
   "execution_count": 57,
   "metadata": {},
   "outputs": [],
   "source": [
    "description_columns = pd.read_csv('../data/HomeCredit_columns_description.csv', sep=\",\", index_col=0, header=0, encoding='latin1')\n",
    "description_columns_dictionary = dict(zip(description_columns['Row'], description_columns['Description']))"
   ]
  },
  {
   "cell_type": "markdown",
   "metadata": {},
   "source": [
    "# Chargement de application_train.csv\n",
    "\n",
    "Ces lignes de code servent à charger les données d'entraînement à partir d'un fichier CSV, à afficher la forme (dimensions) de ces données, puis à afficher les premières lignes du DataFrame. Voici une explication détaillée de chaque étape :\n",
    "\n",
    "1. **Lecture du fichier CSV**:\n",
    "    ```python\n",
    "    app_train = pd.read_csv('../data/Projet+Mise+en+prod+-+home-credit-default-risk/application_train.csv')\n",
    "    ```\n",
    "   - **`pd.read_csv()`**: Cette fonction de la bibliothèque `pandas` est utilisée pour lire un fichier CSV et le convertir en un DataFrame.\n",
    "   - **`'../data/Projet+Mise+en+prod+-+home-credit-default-risk/application_train.csv'`**: Il s'agit du chemin d'accès au fichier CSV contenant les données d'entraînement. Le chemin spécifie où le fichier se trouve par rapport au script en cours d'exécution.\n",
    "\n",
    "   Le fichier CSV `application_train.csv` contient généralement les données d'entraînement qui seront utilisées pour construire un modèle de machine learning. Ces données pourraient inclure des caractéristiques des clients et une étiquette indiquant s'ils ont fait défaut ou non sur un crédit.\n",
    "\n",
    "2. **Affichage de la forme des données**:\n",
    "    ```python\n",
    "    print('Training data shape: ', app_train.shape)\n",
    "    ```\n",
    "   - **`app_train.shape`**: Cette commande retourne un tuple indiquant le nombre de lignes et de colonnes du DataFrame `app_train`.\n",
    "\n",
    "   Cette étape permet de rapidement vérifier la taille des données chargées.\n",
    "\n",
    "3. **Affichage des premières lignes**:\n",
    "    ```python\n",
    "    app_train.head()\n",
    "    ```\n",
    "   - **`app_train.head()`**: Cette fonction retourne les cinq premières lignes du DataFrame. C'est un moyen pratique de visualiser un échantillon des données pour comprendre leur structure et vérifier que le fichier a été correctement chargé.\n",
    "\n",
    "**En résumé**: Ces lignes de code chargent un fichier CSV contenant les données d'entraînement, affichent sa taille (nombre de lignes et de colonnes), et montrent un aperçu des premières lignes des données. Cela permet de vérifier que le fichier a été chargé correctement et de comprendre rapidement la structure des données."
   ]
  },
  {
   "cell_type": "code",
   "execution_count": 58,
   "metadata": {},
   "outputs": [
    {
     "name": "stdout",
     "output_type": "stream",
     "text": [
      "Training data shape:  (307511, 122)\n"
     ]
    },
    {
     "data": {
      "text/html": [
       "<div>\n",
       "<style scoped>\n",
       "    .dataframe tbody tr th:only-of-type {\n",
       "        vertical-align: middle;\n",
       "    }\n",
       "\n",
       "    .dataframe tbody tr th {\n",
       "        vertical-align: top;\n",
       "    }\n",
       "\n",
       "    .dataframe thead th {\n",
       "        text-align: right;\n",
       "    }\n",
       "</style>\n",
       "<table border=\"1\" class=\"dataframe\">\n",
       "  <thead>\n",
       "    <tr style=\"text-align: right;\">\n",
       "      <th></th>\n",
       "      <th>SK_ID_CURR</th>\n",
       "      <th>TARGET</th>\n",
       "      <th>NAME_CONTRACT_TYPE</th>\n",
       "      <th>CODE_GENDER</th>\n",
       "      <th>FLAG_OWN_CAR</th>\n",
       "      <th>FLAG_OWN_REALTY</th>\n",
       "      <th>CNT_CHILDREN</th>\n",
       "      <th>AMT_INCOME_TOTAL</th>\n",
       "      <th>AMT_CREDIT</th>\n",
       "      <th>AMT_ANNUITY</th>\n",
       "      <th>...</th>\n",
       "      <th>FLAG_DOCUMENT_18</th>\n",
       "      <th>FLAG_DOCUMENT_19</th>\n",
       "      <th>FLAG_DOCUMENT_20</th>\n",
       "      <th>FLAG_DOCUMENT_21</th>\n",
       "      <th>AMT_REQ_CREDIT_BUREAU_HOUR</th>\n",
       "      <th>AMT_REQ_CREDIT_BUREAU_DAY</th>\n",
       "      <th>AMT_REQ_CREDIT_BUREAU_WEEK</th>\n",
       "      <th>AMT_REQ_CREDIT_BUREAU_MON</th>\n",
       "      <th>AMT_REQ_CREDIT_BUREAU_QRT</th>\n",
       "      <th>AMT_REQ_CREDIT_BUREAU_YEAR</th>\n",
       "    </tr>\n",
       "  </thead>\n",
       "  <tbody>\n",
       "    <tr>\n",
       "      <th>0</th>\n",
       "      <td>100002</td>\n",
       "      <td>1</td>\n",
       "      <td>Cash loans</td>\n",
       "      <td>M</td>\n",
       "      <td>N</td>\n",
       "      <td>Y</td>\n",
       "      <td>0</td>\n",
       "      <td>202500.0</td>\n",
       "      <td>406597.5</td>\n",
       "      <td>24700.5</td>\n",
       "      <td>...</td>\n",
       "      <td>0</td>\n",
       "      <td>0</td>\n",
       "      <td>0</td>\n",
       "      <td>0</td>\n",
       "      <td>0.0</td>\n",
       "      <td>0.0</td>\n",
       "      <td>0.0</td>\n",
       "      <td>0.0</td>\n",
       "      <td>0.0</td>\n",
       "      <td>1.0</td>\n",
       "    </tr>\n",
       "    <tr>\n",
       "      <th>1</th>\n",
       "      <td>100003</td>\n",
       "      <td>0</td>\n",
       "      <td>Cash loans</td>\n",
       "      <td>F</td>\n",
       "      <td>N</td>\n",
       "      <td>N</td>\n",
       "      <td>0</td>\n",
       "      <td>270000.0</td>\n",
       "      <td>1293502.5</td>\n",
       "      <td>35698.5</td>\n",
       "      <td>...</td>\n",
       "      <td>0</td>\n",
       "      <td>0</td>\n",
       "      <td>0</td>\n",
       "      <td>0</td>\n",
       "      <td>0.0</td>\n",
       "      <td>0.0</td>\n",
       "      <td>0.0</td>\n",
       "      <td>0.0</td>\n",
       "      <td>0.0</td>\n",
       "      <td>0.0</td>\n",
       "    </tr>\n",
       "    <tr>\n",
       "      <th>2</th>\n",
       "      <td>100004</td>\n",
       "      <td>0</td>\n",
       "      <td>Revolving loans</td>\n",
       "      <td>M</td>\n",
       "      <td>Y</td>\n",
       "      <td>Y</td>\n",
       "      <td>0</td>\n",
       "      <td>67500.0</td>\n",
       "      <td>135000.0</td>\n",
       "      <td>6750.0</td>\n",
       "      <td>...</td>\n",
       "      <td>0</td>\n",
       "      <td>0</td>\n",
       "      <td>0</td>\n",
       "      <td>0</td>\n",
       "      <td>0.0</td>\n",
       "      <td>0.0</td>\n",
       "      <td>0.0</td>\n",
       "      <td>0.0</td>\n",
       "      <td>0.0</td>\n",
       "      <td>0.0</td>\n",
       "    </tr>\n",
       "    <tr>\n",
       "      <th>3</th>\n",
       "      <td>100006</td>\n",
       "      <td>0</td>\n",
       "      <td>Cash loans</td>\n",
       "      <td>F</td>\n",
       "      <td>N</td>\n",
       "      <td>Y</td>\n",
       "      <td>0</td>\n",
       "      <td>135000.0</td>\n",
       "      <td>312682.5</td>\n",
       "      <td>29686.5</td>\n",
       "      <td>...</td>\n",
       "      <td>0</td>\n",
       "      <td>0</td>\n",
       "      <td>0</td>\n",
       "      <td>0</td>\n",
       "      <td>NaN</td>\n",
       "      <td>NaN</td>\n",
       "      <td>NaN</td>\n",
       "      <td>NaN</td>\n",
       "      <td>NaN</td>\n",
       "      <td>NaN</td>\n",
       "    </tr>\n",
       "    <tr>\n",
       "      <th>4</th>\n",
       "      <td>100007</td>\n",
       "      <td>0</td>\n",
       "      <td>Cash loans</td>\n",
       "      <td>M</td>\n",
       "      <td>N</td>\n",
       "      <td>Y</td>\n",
       "      <td>0</td>\n",
       "      <td>121500.0</td>\n",
       "      <td>513000.0</td>\n",
       "      <td>21865.5</td>\n",
       "      <td>...</td>\n",
       "      <td>0</td>\n",
       "      <td>0</td>\n",
       "      <td>0</td>\n",
       "      <td>0</td>\n",
       "      <td>0.0</td>\n",
       "      <td>0.0</td>\n",
       "      <td>0.0</td>\n",
       "      <td>0.0</td>\n",
       "      <td>0.0</td>\n",
       "      <td>0.0</td>\n",
       "    </tr>\n",
       "  </tbody>\n",
       "</table>\n",
       "<p>5 rows × 122 columns</p>\n",
       "</div>"
      ],
      "text/plain": [
       "   SK_ID_CURR  TARGET NAME_CONTRACT_TYPE CODE_GENDER FLAG_OWN_CAR  \\\n",
       "0      100002       1         Cash loans           M            N   \n",
       "1      100003       0         Cash loans           F            N   \n",
       "2      100004       0    Revolving loans           M            Y   \n",
       "3      100006       0         Cash loans           F            N   \n",
       "4      100007       0         Cash loans           M            N   \n",
       "\n",
       "  FLAG_OWN_REALTY  CNT_CHILDREN  AMT_INCOME_TOTAL  AMT_CREDIT  AMT_ANNUITY  \\\n",
       "0               Y             0          202500.0    406597.5      24700.5   \n",
       "1               N             0          270000.0   1293502.5      35698.5   \n",
       "2               Y             0           67500.0    135000.0       6750.0   \n",
       "3               Y             0          135000.0    312682.5      29686.5   \n",
       "4               Y             0          121500.0    513000.0      21865.5   \n",
       "\n",
       "   ...  FLAG_DOCUMENT_18 FLAG_DOCUMENT_19 FLAG_DOCUMENT_20 FLAG_DOCUMENT_21  \\\n",
       "0  ...                 0                0                0                0   \n",
       "1  ...                 0                0                0                0   \n",
       "2  ...                 0                0                0                0   \n",
       "3  ...                 0                0                0                0   \n",
       "4  ...                 0                0                0                0   \n",
       "\n",
       "  AMT_REQ_CREDIT_BUREAU_HOUR AMT_REQ_CREDIT_BUREAU_DAY  \\\n",
       "0                        0.0                       0.0   \n",
       "1                        0.0                       0.0   \n",
       "2                        0.0                       0.0   \n",
       "3                        NaN                       NaN   \n",
       "4                        0.0                       0.0   \n",
       "\n",
       "   AMT_REQ_CREDIT_BUREAU_WEEK  AMT_REQ_CREDIT_BUREAU_MON  \\\n",
       "0                         0.0                        0.0   \n",
       "1                         0.0                        0.0   \n",
       "2                         0.0                        0.0   \n",
       "3                         NaN                        NaN   \n",
       "4                         0.0                        0.0   \n",
       "\n",
       "   AMT_REQ_CREDIT_BUREAU_QRT  AMT_REQ_CREDIT_BUREAU_YEAR  \n",
       "0                        0.0                         1.0  \n",
       "1                        0.0                         0.0  \n",
       "2                        0.0                         0.0  \n",
       "3                        NaN                         NaN  \n",
       "4                        0.0                         0.0  \n",
       "\n",
       "[5 rows x 122 columns]"
      ]
     },
     "execution_count": 58,
     "metadata": {},
     "output_type": "execute_result"
    }
   ],
   "source": [
    "# Training data\n",
    "app_train = pd.read_csv('../data/Projet+Mise+en+prod+-+home-credit-default-risk/application_train.csv')\n",
    "print('Training data shape: ', app_train.shape)\n",
    "app_train.head()"
   ]
  },
  {
   "cell_type": "markdown",
   "metadata": {},
   "source": [
    "# Chargement de application_test.csv"
   ]
  },
  {
   "cell_type": "code",
   "execution_count": 59,
   "metadata": {},
   "outputs": [
    {
     "name": "stdout",
     "output_type": "stream",
     "text": [
      "Testing data shape:  (48744, 121)\n"
     ]
    },
    {
     "data": {
      "text/html": [
       "<div>\n",
       "<style scoped>\n",
       "    .dataframe tbody tr th:only-of-type {\n",
       "        vertical-align: middle;\n",
       "    }\n",
       "\n",
       "    .dataframe tbody tr th {\n",
       "        vertical-align: top;\n",
       "    }\n",
       "\n",
       "    .dataframe thead th {\n",
       "        text-align: right;\n",
       "    }\n",
       "</style>\n",
       "<table border=\"1\" class=\"dataframe\">\n",
       "  <thead>\n",
       "    <tr style=\"text-align: right;\">\n",
       "      <th></th>\n",
       "      <th>SK_ID_CURR</th>\n",
       "      <th>NAME_CONTRACT_TYPE</th>\n",
       "      <th>CODE_GENDER</th>\n",
       "      <th>FLAG_OWN_CAR</th>\n",
       "      <th>FLAG_OWN_REALTY</th>\n",
       "      <th>CNT_CHILDREN</th>\n",
       "      <th>AMT_INCOME_TOTAL</th>\n",
       "      <th>AMT_CREDIT</th>\n",
       "      <th>AMT_ANNUITY</th>\n",
       "      <th>AMT_GOODS_PRICE</th>\n",
       "      <th>...</th>\n",
       "      <th>FLAG_DOCUMENT_18</th>\n",
       "      <th>FLAG_DOCUMENT_19</th>\n",
       "      <th>FLAG_DOCUMENT_20</th>\n",
       "      <th>FLAG_DOCUMENT_21</th>\n",
       "      <th>AMT_REQ_CREDIT_BUREAU_HOUR</th>\n",
       "      <th>AMT_REQ_CREDIT_BUREAU_DAY</th>\n",
       "      <th>AMT_REQ_CREDIT_BUREAU_WEEK</th>\n",
       "      <th>AMT_REQ_CREDIT_BUREAU_MON</th>\n",
       "      <th>AMT_REQ_CREDIT_BUREAU_QRT</th>\n",
       "      <th>AMT_REQ_CREDIT_BUREAU_YEAR</th>\n",
       "    </tr>\n",
       "  </thead>\n",
       "  <tbody>\n",
       "    <tr>\n",
       "      <th>0</th>\n",
       "      <td>100001</td>\n",
       "      <td>Cash loans</td>\n",
       "      <td>F</td>\n",
       "      <td>N</td>\n",
       "      <td>Y</td>\n",
       "      <td>0</td>\n",
       "      <td>135000.0</td>\n",
       "      <td>568800.0</td>\n",
       "      <td>20560.5</td>\n",
       "      <td>450000.0</td>\n",
       "      <td>...</td>\n",
       "      <td>0</td>\n",
       "      <td>0</td>\n",
       "      <td>0</td>\n",
       "      <td>0</td>\n",
       "      <td>0.0</td>\n",
       "      <td>0.0</td>\n",
       "      <td>0.0</td>\n",
       "      <td>0.0</td>\n",
       "      <td>0.0</td>\n",
       "      <td>0.0</td>\n",
       "    </tr>\n",
       "    <tr>\n",
       "      <th>1</th>\n",
       "      <td>100005</td>\n",
       "      <td>Cash loans</td>\n",
       "      <td>M</td>\n",
       "      <td>N</td>\n",
       "      <td>Y</td>\n",
       "      <td>0</td>\n",
       "      <td>99000.0</td>\n",
       "      <td>222768.0</td>\n",
       "      <td>17370.0</td>\n",
       "      <td>180000.0</td>\n",
       "      <td>...</td>\n",
       "      <td>0</td>\n",
       "      <td>0</td>\n",
       "      <td>0</td>\n",
       "      <td>0</td>\n",
       "      <td>0.0</td>\n",
       "      <td>0.0</td>\n",
       "      <td>0.0</td>\n",
       "      <td>0.0</td>\n",
       "      <td>0.0</td>\n",
       "      <td>3.0</td>\n",
       "    </tr>\n",
       "    <tr>\n",
       "      <th>2</th>\n",
       "      <td>100013</td>\n",
       "      <td>Cash loans</td>\n",
       "      <td>M</td>\n",
       "      <td>Y</td>\n",
       "      <td>Y</td>\n",
       "      <td>0</td>\n",
       "      <td>202500.0</td>\n",
       "      <td>663264.0</td>\n",
       "      <td>69777.0</td>\n",
       "      <td>630000.0</td>\n",
       "      <td>...</td>\n",
       "      <td>0</td>\n",
       "      <td>0</td>\n",
       "      <td>0</td>\n",
       "      <td>0</td>\n",
       "      <td>0.0</td>\n",
       "      <td>0.0</td>\n",
       "      <td>0.0</td>\n",
       "      <td>0.0</td>\n",
       "      <td>1.0</td>\n",
       "      <td>4.0</td>\n",
       "    </tr>\n",
       "    <tr>\n",
       "      <th>3</th>\n",
       "      <td>100028</td>\n",
       "      <td>Cash loans</td>\n",
       "      <td>F</td>\n",
       "      <td>N</td>\n",
       "      <td>Y</td>\n",
       "      <td>2</td>\n",
       "      <td>315000.0</td>\n",
       "      <td>1575000.0</td>\n",
       "      <td>49018.5</td>\n",
       "      <td>1575000.0</td>\n",
       "      <td>...</td>\n",
       "      <td>0</td>\n",
       "      <td>0</td>\n",
       "      <td>0</td>\n",
       "      <td>0</td>\n",
       "      <td>0.0</td>\n",
       "      <td>0.0</td>\n",
       "      <td>0.0</td>\n",
       "      <td>0.0</td>\n",
       "      <td>0.0</td>\n",
       "      <td>3.0</td>\n",
       "    </tr>\n",
       "    <tr>\n",
       "      <th>4</th>\n",
       "      <td>100038</td>\n",
       "      <td>Cash loans</td>\n",
       "      <td>M</td>\n",
       "      <td>Y</td>\n",
       "      <td>N</td>\n",
       "      <td>1</td>\n",
       "      <td>180000.0</td>\n",
       "      <td>625500.0</td>\n",
       "      <td>32067.0</td>\n",
       "      <td>625500.0</td>\n",
       "      <td>...</td>\n",
       "      <td>0</td>\n",
       "      <td>0</td>\n",
       "      <td>0</td>\n",
       "      <td>0</td>\n",
       "      <td>NaN</td>\n",
       "      <td>NaN</td>\n",
       "      <td>NaN</td>\n",
       "      <td>NaN</td>\n",
       "      <td>NaN</td>\n",
       "      <td>NaN</td>\n",
       "    </tr>\n",
       "  </tbody>\n",
       "</table>\n",
       "<p>5 rows × 121 columns</p>\n",
       "</div>"
      ],
      "text/plain": [
       "   SK_ID_CURR NAME_CONTRACT_TYPE CODE_GENDER FLAG_OWN_CAR FLAG_OWN_REALTY  \\\n",
       "0      100001         Cash loans           F            N               Y   \n",
       "1      100005         Cash loans           M            N               Y   \n",
       "2      100013         Cash loans           M            Y               Y   \n",
       "3      100028         Cash loans           F            N               Y   \n",
       "4      100038         Cash loans           M            Y               N   \n",
       "\n",
       "   CNT_CHILDREN  AMT_INCOME_TOTAL  AMT_CREDIT  AMT_ANNUITY  AMT_GOODS_PRICE  \\\n",
       "0             0          135000.0    568800.0      20560.5         450000.0   \n",
       "1             0           99000.0    222768.0      17370.0         180000.0   \n",
       "2             0          202500.0    663264.0      69777.0         630000.0   \n",
       "3             2          315000.0   1575000.0      49018.5        1575000.0   \n",
       "4             1          180000.0    625500.0      32067.0         625500.0   \n",
       "\n",
       "   ... FLAG_DOCUMENT_18 FLAG_DOCUMENT_19 FLAG_DOCUMENT_20 FLAG_DOCUMENT_21  \\\n",
       "0  ...                0                0                0                0   \n",
       "1  ...                0                0                0                0   \n",
       "2  ...                0                0                0                0   \n",
       "3  ...                0                0                0                0   \n",
       "4  ...                0                0                0                0   \n",
       "\n",
       "  AMT_REQ_CREDIT_BUREAU_HOUR  AMT_REQ_CREDIT_BUREAU_DAY  \\\n",
       "0                        0.0                        0.0   \n",
       "1                        0.0                        0.0   \n",
       "2                        0.0                        0.0   \n",
       "3                        0.0                        0.0   \n",
       "4                        NaN                        NaN   \n",
       "\n",
       "   AMT_REQ_CREDIT_BUREAU_WEEK  AMT_REQ_CREDIT_BUREAU_MON  \\\n",
       "0                         0.0                        0.0   \n",
       "1                         0.0                        0.0   \n",
       "2                         0.0                        0.0   \n",
       "3                         0.0                        0.0   \n",
       "4                         NaN                        NaN   \n",
       "\n",
       "   AMT_REQ_CREDIT_BUREAU_QRT  AMT_REQ_CREDIT_BUREAU_YEAR  \n",
       "0                        0.0                         0.0  \n",
       "1                        0.0                         3.0  \n",
       "2                        1.0                         4.0  \n",
       "3                        0.0                         3.0  \n",
       "4                        NaN                         NaN  \n",
       "\n",
       "[5 rows x 121 columns]"
      ]
     },
     "execution_count": 59,
     "metadata": {},
     "output_type": "execute_result"
    }
   ],
   "source": [
    "# Testing data features\n",
    "app_test = pd.read_csv('../data/Projet+Mise+en+prod+-+home-credit-default-risk/application_test.csv')\n",
    "print('Testing data shape: ', app_test.shape)\n",
    "app_test.head()"
   ]
  },
  {
   "cell_type": "markdown",
   "metadata": {},
   "source": [
    "# Fréquence des classes TARGET"
   ]
  },
  {
   "cell_type": "code",
   "execution_count": 60,
   "metadata": {},
   "outputs": [
    {
     "name": "stdout",
     "output_type": "stream",
     "text": [
      "TARGET\n",
      "0    282686\n",
      "1     24825\n",
      "Name: count, dtype: int64\n"
     ]
    },
    {
     "data": {
      "image/png": "[encoded data removed]",
      "text/plain": [
       "<Figure size 432x288 with 1 Axes>"
      ]
     },
     "metadata": {
      "needs_background": "light"
     },
     "output_type": "display_data"
    }
   ],
   "source": [
    "print(app_train['TARGET'].value_counts())\n",
    "app_train['TARGET'].astype(int).plot.hist();"
   ]
  },
  {
   "cell_type": "code",
   "execution_count": 61,
   "metadata": {},
   "outputs": [
    {
     "data": {
      "text/plain": [
       "0"
      ]
     },
     "execution_count": 61,
     "metadata": {},
     "output_type": "execute_result"
    }
   ],
   "source": [
    "app_train['DAYS_BIRTH'].isna().sum()"
   ]
  },
  {
   "cell_type": "markdown",
   "metadata": {},
   "source": [
    "# Application Kernel "
   ]
  },
  {
   "cell_type": "markdown",
   "metadata": {},
   "source": [
    "## Création de la table homeCredit (Train + Test data) "
   ]
  },
  {
   "cell_type": "code",
   "execution_count": 62,
   "metadata": {},
   "outputs": [
    {
     "name": "stdout",
     "output_type": "stream",
     "text": [
      "hello\n",
      "shape of df after contatenation train and test (356255, 122)\n",
      "shape of train after recode Geneder XNA (356251, 122)\n",
      "CODE_GENDER\n",
      "FLAG_OWN_CAR\n",
      "FLAG_OWN_REALTY\n",
      "shape of df after one hot encoding (356251, 242)\n",
      "shape of df after feature computing (356251, 247)\n"
     ]
    }
   ],
   "source": [
    "homeCredit, cat_apptrain, oricatcol_apptrain = application_train_test(path_train='../data/Projet+Mise+en+prod+-+home-credit-default-risk/application_train.csv',\n",
    "                       path_test='../data/Projet+Mise+en+prod+-+home-credit-default-risk/application_test.csv',\n",
    "                       num_rows=None,\n",
    "                       nan_as_category=False)"
   ]
  },
  {
   "cell_type": "code",
   "execution_count": 63,
   "metadata": {},
   "outputs": [],
   "source": [
    "homeCredit= homeCredit.set_index('SK_ID_CURR')"
   ]
  },
  {
   "cell_type": "code",
   "execution_count": 64,
   "metadata": {},
   "outputs": [
    {
     "data": {
      "text/html": [
       "<div>\n",
       "<style scoped>\n",
       "    .dataframe tbody tr th:only-of-type {\n",
       "        vertical-align: middle;\n",
       "    }\n",
       "\n",
       "    .dataframe tbody tr th {\n",
       "        vertical-align: top;\n",
       "    }\n",
       "\n",
       "    .dataframe thead th {\n",
       "        text-align: right;\n",
       "    }\n",
       "</style>\n",
       "<table border=\"1\" class=\"dataframe\">\n",
       "  <thead>\n",
       "    <tr style=\"text-align: right;\">\n",
       "      <th></th>\n",
       "      <th>TARGET</th>\n",
       "      <th>CODE_GENDER</th>\n",
       "      <th>FLAG_OWN_CAR</th>\n",
       "      <th>FLAG_OWN_REALTY</th>\n",
       "      <th>CNT_CHILDREN</th>\n",
       "      <th>AMT_INCOME_TOTAL</th>\n",
       "      <th>AMT_CREDIT</th>\n",
       "      <th>AMT_ANNUITY</th>\n",
       "      <th>AMT_GOODS_PRICE</th>\n",
       "      <th>REGION_POPULATION_RELATIVE</th>\n",
       "      <th>...</th>\n",
       "      <th>WALLSMATERIAL_MODE_Panel</th>\n",
       "      <th>WALLSMATERIAL_MODE_Stone, brick</th>\n",
       "      <th>WALLSMATERIAL_MODE_Wooden</th>\n",
       "      <th>EMERGENCYSTATE_MODE_No</th>\n",
       "      <th>EMERGENCYSTATE_MODE_Yes</th>\n",
       "      <th>DAYS_EMPLOYED_PERC</th>\n",
       "      <th>INCOME_CREDIT_PERC</th>\n",
       "      <th>INCOME_PER_PERSON</th>\n",
       "      <th>ANNUITY_INCOME_PERC</th>\n",
       "      <th>PAYMENT_RATE</th>\n",
       "    </tr>\n",
       "    <tr>\n",
       "      <th>SK_ID_CURR</th>\n",
       "      <th></th>\n",
       "      <th></th>\n",
       "      <th></th>\n",
       "      <th></th>\n",
       "      <th></th>\n",
       "      <th></th>\n",
       "      <th></th>\n",
       "      <th></th>\n",
       "      <th></th>\n",
       "      <th></th>\n",
       "      <th></th>\n",
       "      <th></th>\n",
       "      <th></th>\n",
       "      <th></th>\n",
       "      <th></th>\n",
       "      <th></th>\n",
       "      <th></th>\n",
       "      <th></th>\n",
       "      <th></th>\n",
       "      <th></th>\n",
       "      <th></th>\n",
       "    </tr>\n",
       "  </thead>\n",
       "  <tbody>\n",
       "    <tr>\n",
       "      <th>100002</th>\n",
       "      <td>1.0</td>\n",
       "      <td>0</td>\n",
       "      <td>0</td>\n",
       "      <td>0</td>\n",
       "      <td>0</td>\n",
       "      <td>202500.0</td>\n",
       "      <td>406597.5</td>\n",
       "      <td>24700.5</td>\n",
       "      <td>351000.0</td>\n",
       "      <td>0.018801</td>\n",
       "      <td>...</td>\n",
       "      <td>False</td>\n",
       "      <td>True</td>\n",
       "      <td>False</td>\n",
       "      <td>True</td>\n",
       "      <td>False</td>\n",
       "      <td>0.067329</td>\n",
       "      <td>0.498036</td>\n",
       "      <td>202500.0</td>\n",
       "      <td>0.121978</td>\n",
       "      <td>0.060749</td>\n",
       "    </tr>\n",
       "    <tr>\n",
       "      <th>100003</th>\n",
       "      <td>0.0</td>\n",
       "      <td>1</td>\n",
       "      <td>0</td>\n",
       "      <td>1</td>\n",
       "      <td>0</td>\n",
       "      <td>270000.0</td>\n",
       "      <td>1293502.5</td>\n",
       "      <td>35698.5</td>\n",
       "      <td>1129500.0</td>\n",
       "      <td>0.003541</td>\n",
       "      <td>...</td>\n",
       "      <td>False</td>\n",
       "      <td>False</td>\n",
       "      <td>False</td>\n",
       "      <td>True</td>\n",
       "      <td>False</td>\n",
       "      <td>0.070862</td>\n",
       "      <td>0.208736</td>\n",
       "      <td>135000.0</td>\n",
       "      <td>0.132217</td>\n",
       "      <td>0.027598</td>\n",
       "    </tr>\n",
       "  </tbody>\n",
       "</table>\n",
       "<p>2 rows × 246 columns</p>\n",
       "</div>"
      ],
      "text/plain": [
       "            TARGET  CODE_GENDER  FLAG_OWN_CAR  FLAG_OWN_REALTY  CNT_CHILDREN  \\\n",
       "SK_ID_CURR                                                                     \n",
       "100002         1.0            0             0                0             0   \n",
       "100003         0.0            1             0                1             0   \n",
       "\n",
       "            AMT_INCOME_TOTAL  AMT_CREDIT  AMT_ANNUITY  AMT_GOODS_PRICE  \\\n",
       "SK_ID_CURR                                                               \n",
       "100002              202500.0    406597.5      24700.5         351000.0   \n",
       "100003              270000.0   1293502.5      35698.5        1129500.0   \n",
       "\n",
       "            REGION_POPULATION_RELATIVE  ...  WALLSMATERIAL_MODE_Panel  \\\n",
       "SK_ID_CURR                              ...                             \n",
       "100002                        0.018801  ...                     False   \n",
       "100003                        0.003541  ...                     False   \n",
       "\n",
       "            WALLSMATERIAL_MODE_Stone, brick  WALLSMATERIAL_MODE_Wooden  \\\n",
       "SK_ID_CURR                                                               \n",
       "100002                                 True                      False   \n",
       "100003                                False                      False   \n",
       "\n",
       "            EMERGENCYSTATE_MODE_No  EMERGENCYSTATE_MODE_Yes  \\\n",
       "SK_ID_CURR                                                    \n",
       "100002                        True                    False   \n",
       "100003                        True                    False   \n",
       "\n",
       "            DAYS_EMPLOYED_PERC  INCOME_CREDIT_PERC  INCOME_PER_PERSON  \\\n",
       "SK_ID_CURR                                                              \n",
       "100002                0.067329            0.498036           202500.0   \n",
       "100003                0.070862            0.208736           135000.0   \n",
       "\n",
       "            ANNUITY_INCOME_PERC  PAYMENT_RATE  \n",
       "SK_ID_CURR                                     \n",
       "100002                 0.121978      0.060749  \n",
       "100003                 0.132217      0.027598  \n",
       "\n",
       "[2 rows x 246 columns]"
      ]
     },
     "execution_count": 64,
     "metadata": {},
     "output_type": "execute_result"
    }
   ],
   "source": [
    "homeCredit.head(2)"
   ]
  },
  {
   "cell_type": "code",
   "execution_count": 65,
   "metadata": {},
   "outputs": [
    {
     "data": {
      "text/plain": [
       "(356251, 246)"
      ]
     },
     "execution_count": 65,
     "metadata": {},
     "output_type": "execute_result"
    }
   ],
   "source": [
    "homeCredit.shape"
   ]
  },
  {
   "cell_type": "markdown",
   "metadata": {},
   "source": [
    "## Bureau et Balance"
   ]
  },
  {
   "cell_type": "code",
   "execution_count": 66,
   "metadata": {},
   "outputs": [],
   "source": [
    "bureau_agg, cat_bb, oricatcol_bb, cat_bureau, oricatcol_bureau = bureau_and_balance(path_bureau='../data/Projet+Mise+en+prod+-+home-credit-default-risk/bureau.csv',\n",
    "                   path_balance='../data/Projet+Mise+en+prod+-+home-credit-default-risk/bureau_balance.csv',\n",
    "                   num_rows=None,\n",
    "                   nan_as_category=True)"
   ]
  },
  {
   "cell_type": "code",
   "execution_count": 67,
   "metadata": {},
   "outputs": [
    {
     "data": {
      "text/html": [
       "<div>\n",
       "<style scoped>\n",
       "    .dataframe tbody tr th:only-of-type {\n",
       "        vertical-align: middle;\n",
       "    }\n",
       "\n",
       "    .dataframe tbody tr th {\n",
       "        vertical-align: top;\n",
       "    }\n",
       "\n",
       "    .dataframe thead th {\n",
       "        text-align: right;\n",
       "    }\n",
       "</style>\n",
       "<table border=\"1\" class=\"dataframe\">\n",
       "  <thead>\n",
       "    <tr style=\"text-align: right;\">\n",
       "      <th></th>\n",
       "      <th>BURO_DAYS_CREDIT_MIN</th>\n",
       "      <th>BURO_DAYS_CREDIT_MAX</th>\n",
       "      <th>BURO_DAYS_CREDIT_MEAN</th>\n",
       "      <th>BURO_DAYS_CREDIT_VAR</th>\n",
       "      <th>BURO_DAYS_CREDIT_ENDDATE_MIN</th>\n",
       "      <th>BURO_DAYS_CREDIT_ENDDATE_MAX</th>\n",
       "      <th>BURO_DAYS_CREDIT_ENDDATE_MEAN</th>\n",
       "      <th>BURO_DAYS_CREDIT_UPDATE_MEAN</th>\n",
       "      <th>BURO_CREDIT_DAY_OVERDUE_MAX</th>\n",
       "      <th>BURO_CREDIT_DAY_OVERDUE_MEAN</th>\n",
       "      <th>...</th>\n",
       "      <th>CLOSED_AMT_CREDIT_SUM_OVERDUE_MEAN</th>\n",
       "      <th>CLOSED_AMT_CREDIT_SUM_LIMIT_MEAN</th>\n",
       "      <th>CLOSED_AMT_CREDIT_SUM_LIMIT_SUM</th>\n",
       "      <th>CLOSED_AMT_ANNUITY_MAX</th>\n",
       "      <th>CLOSED_AMT_ANNUITY_MEAN</th>\n",
       "      <th>CLOSED_CNT_CREDIT_PROLONG_SUM</th>\n",
       "      <th>CLOSED_MONTHS_BALANCE_MIN_MIN</th>\n",
       "      <th>CLOSED_MONTHS_BALANCE_MAX_MAX</th>\n",
       "      <th>CLOSED_MONTHS_BALANCE_SIZE_MEAN</th>\n",
       "      <th>CLOSED_MONTHS_BALANCE_SIZE_SUM</th>\n",
       "    </tr>\n",
       "    <tr>\n",
       "      <th>SK_ID_CURR</th>\n",
       "      <th></th>\n",
       "      <th></th>\n",
       "      <th></th>\n",
       "      <th></th>\n",
       "      <th></th>\n",
       "      <th></th>\n",
       "      <th></th>\n",
       "      <th></th>\n",
       "      <th></th>\n",
       "      <th></th>\n",
       "      <th></th>\n",
       "      <th></th>\n",
       "      <th></th>\n",
       "      <th></th>\n",
       "      <th></th>\n",
       "      <th></th>\n",
       "      <th></th>\n",
       "      <th></th>\n",
       "      <th></th>\n",
       "      <th></th>\n",
       "      <th></th>\n",
       "    </tr>\n",
       "  </thead>\n",
       "  <tbody>\n",
       "    <tr>\n",
       "      <th>100001</th>\n",
       "      <td>-1572</td>\n",
       "      <td>-49</td>\n",
       "      <td>-735.0</td>\n",
       "      <td>240043.666667</td>\n",
       "      <td>-1329.0</td>\n",
       "      <td>1778.0</td>\n",
       "      <td>82.428571</td>\n",
       "      <td>-93.142857</td>\n",
       "      <td>0</td>\n",
       "      <td>0.0</td>\n",
       "      <td>...</td>\n",
       "      <td>0.0</td>\n",
       "      <td>0.0</td>\n",
       "      <td>0.0</td>\n",
       "      <td>0.0</td>\n",
       "      <td>0.0</td>\n",
       "      <td>0.0</td>\n",
       "      <td>-51.0</td>\n",
       "      <td>0.0</td>\n",
       "      <td>35.0</td>\n",
       "      <td>140.0</td>\n",
       "    </tr>\n",
       "    <tr>\n",
       "      <th>100002</th>\n",
       "      <td>-1437</td>\n",
       "      <td>-103</td>\n",
       "      <td>-874.0</td>\n",
       "      <td>186150.000000</td>\n",
       "      <td>-1072.0</td>\n",
       "      <td>780.0</td>\n",
       "      <td>-349.000000</td>\n",
       "      <td>-499.875000</td>\n",
       "      <td>0</td>\n",
       "      <td>0.0</td>\n",
       "      <td>...</td>\n",
       "      <td>0.0</td>\n",
       "      <td>0.0</td>\n",
       "      <td>0.0</td>\n",
       "      <td>0.0</td>\n",
       "      <td>0.0</td>\n",
       "      <td>0.0</td>\n",
       "      <td>-47.0</td>\n",
       "      <td>0.0</td>\n",
       "      <td>15.0</td>\n",
       "      <td>90.0</td>\n",
       "    </tr>\n",
       "  </tbody>\n",
       "</table>\n",
       "<p>2 rows × 116 columns</p>\n",
       "</div>"
      ],
      "text/plain": [
       "            BURO_DAYS_CREDIT_MIN  BURO_DAYS_CREDIT_MAX  BURO_DAYS_CREDIT_MEAN  \\\n",
       "SK_ID_CURR                                                                      \n",
       "100001                     -1572                   -49                 -735.0   \n",
       "100002                     -1437                  -103                 -874.0   \n",
       "\n",
       "            BURO_DAYS_CREDIT_VAR  BURO_DAYS_CREDIT_ENDDATE_MIN  \\\n",
       "SK_ID_CURR                                                       \n",
       "100001             240043.666667                       -1329.0   \n",
       "100002             186150.000000                       -1072.0   \n",
       "\n",
       "            BURO_DAYS_CREDIT_ENDDATE_MAX  BURO_DAYS_CREDIT_ENDDATE_MEAN  \\\n",
       "SK_ID_CURR                                                                \n",
       "100001                            1778.0                      82.428571   \n",
       "100002                             780.0                    -349.000000   \n",
       "\n",
       "            BURO_DAYS_CREDIT_UPDATE_MEAN  BURO_CREDIT_DAY_OVERDUE_MAX  \\\n",
       "SK_ID_CURR                                                              \n",
       "100001                        -93.142857                            0   \n",
       "100002                       -499.875000                            0   \n",
       "\n",
       "            BURO_CREDIT_DAY_OVERDUE_MEAN  ...  \\\n",
       "SK_ID_CURR                                ...   \n",
       "100001                               0.0  ...   \n",
       "100002                               0.0  ...   \n",
       "\n",
       "            CLOSED_AMT_CREDIT_SUM_OVERDUE_MEAN  \\\n",
       "SK_ID_CURR                                       \n",
       "100001                                     0.0   \n",
       "100002                                     0.0   \n",
       "\n",
       "            CLOSED_AMT_CREDIT_SUM_LIMIT_MEAN  CLOSED_AMT_CREDIT_SUM_LIMIT_SUM  \\\n",
       "SK_ID_CURR                                                                      \n",
       "100001                                   0.0                              0.0   \n",
       "100002                                   0.0                              0.0   \n",
       "\n",
       "            CLOSED_AMT_ANNUITY_MAX  CLOSED_AMT_ANNUITY_MEAN  \\\n",
       "SK_ID_CURR                                                    \n",
       "100001                         0.0                      0.0   \n",
       "100002                         0.0                      0.0   \n",
       "\n",
       "            CLOSED_CNT_CREDIT_PROLONG_SUM  CLOSED_MONTHS_BALANCE_MIN_MIN  \\\n",
       "SK_ID_CURR                                                                 \n",
       "100001                                0.0                          -51.0   \n",
       "100002                                0.0                          -47.0   \n",
       "\n",
       "            CLOSED_MONTHS_BALANCE_MAX_MAX  CLOSED_MONTHS_BALANCE_SIZE_MEAN  \\\n",
       "SK_ID_CURR                                                                   \n",
       "100001                                0.0                             35.0   \n",
       "100002                                0.0                             15.0   \n",
       "\n",
       "            CLOSED_MONTHS_BALANCE_SIZE_SUM  \n",
       "SK_ID_CURR                                  \n",
       "100001                               140.0  \n",
       "100002                                90.0  \n",
       "\n",
       "[2 rows x 116 columns]"
      ]
     },
     "execution_count": 67,
     "metadata": {},
     "output_type": "execute_result"
    }
   ],
   "source": [
    "bureau_agg.head(2)   "
   ]
  },
  {
   "cell_type": "code",
   "execution_count": 68,
   "metadata": {},
   "outputs": [
    {
     "data": {
      "text/plain": [
       "(305811, 116)"
      ]
     },
     "execution_count": 68,
     "metadata": {},
     "output_type": "execute_result"
    }
   ],
   "source": [
    "bureau_agg.shape"
   ]
  },
  {
   "cell_type": "markdown",
   "metadata": {},
   "source": [
    "## Previous applications"
   ]
  },
  {
   "cell_type": "code",
   "execution_count": 69,
   "metadata": {},
   "outputs": [],
   "source": [
    "#3\n",
    "previous_app, cat_cols_prevapp, oricatcol_prevapp = previous_applications(path_prevapp='../data/Projet+Mise+en+prod+-+home-credit-default-risk/previous_application.csv',\n",
    "                                     num_rows=None, \n",
    "                                     nan_as_category=True)"
   ]
  },
  {
   "cell_type": "code",
   "execution_count": 70,
   "metadata": {},
   "outputs": [
    {
     "data": {
      "text/html": [
       "<div>\n",
       "<style scoped>\n",
       "    .dataframe tbody tr th:only-of-type {\n",
       "        vertical-align: middle;\n",
       "    }\n",
       "\n",
       "    .dataframe tbody tr th {\n",
       "        vertical-align: top;\n",
       "    }\n",
       "\n",
       "    .dataframe thead th {\n",
       "        text-align: right;\n",
       "    }\n",
       "</style>\n",
       "<table border=\"1\" class=\"dataframe\">\n",
       "  <thead>\n",
       "    <tr style=\"text-align: right;\">\n",
       "      <th></th>\n",
       "      <th>PREV_AMT_ANNUITY_MIN</th>\n",
       "      <th>PREV_AMT_ANNUITY_MAX</th>\n",
       "      <th>PREV_AMT_ANNUITY_MEAN</th>\n",
       "      <th>PREV_AMT_APPLICATION_MIN</th>\n",
       "      <th>PREV_AMT_APPLICATION_MAX</th>\n",
       "      <th>PREV_AMT_APPLICATION_MEAN</th>\n",
       "      <th>PREV_AMT_CREDIT_MIN</th>\n",
       "      <th>PREV_AMT_CREDIT_MAX</th>\n",
       "      <th>PREV_AMT_CREDIT_MEAN</th>\n",
       "      <th>PREV_APP_CREDIT_PERC_MIN</th>\n",
       "      <th>...</th>\n",
       "      <th>REFUSED_HOUR_APPR_PROCESS_START_MAX</th>\n",
       "      <th>REFUSED_HOUR_APPR_PROCESS_START_MEAN</th>\n",
       "      <th>REFUSED_RATE_DOWN_PAYMENT_MIN</th>\n",
       "      <th>REFUSED_RATE_DOWN_PAYMENT_MAX</th>\n",
       "      <th>REFUSED_RATE_DOWN_PAYMENT_MEAN</th>\n",
       "      <th>REFUSED_DAYS_DECISION_MIN</th>\n",
       "      <th>REFUSED_DAYS_DECISION_MAX</th>\n",
       "      <th>REFUSED_DAYS_DECISION_MEAN</th>\n",
       "      <th>REFUSED_CNT_PAYMENT_MEAN</th>\n",
       "      <th>REFUSED_CNT_PAYMENT_SUM</th>\n",
       "    </tr>\n",
       "    <tr>\n",
       "      <th>SK_ID_CURR</th>\n",
       "      <th></th>\n",
       "      <th></th>\n",
       "      <th></th>\n",
       "      <th></th>\n",
       "      <th></th>\n",
       "      <th></th>\n",
       "      <th></th>\n",
       "      <th></th>\n",
       "      <th></th>\n",
       "      <th></th>\n",
       "      <th></th>\n",
       "      <th></th>\n",
       "      <th></th>\n",
       "      <th></th>\n",
       "      <th></th>\n",
       "      <th></th>\n",
       "      <th></th>\n",
       "      <th></th>\n",
       "      <th></th>\n",
       "      <th></th>\n",
       "      <th></th>\n",
       "    </tr>\n",
       "  </thead>\n",
       "  <tbody>\n",
       "    <tr>\n",
       "      <th>100001</th>\n",
       "      <td>3951.000</td>\n",
       "      <td>3951.000</td>\n",
       "      <td>3951.000</td>\n",
       "      <td>24835.5</td>\n",
       "      <td>24835.5</td>\n",
       "      <td>24835.5</td>\n",
       "      <td>23787.0</td>\n",
       "      <td>23787.0</td>\n",
       "      <td>23787.0</td>\n",
       "      <td>1.044079</td>\n",
       "      <td>...</td>\n",
       "      <td>NaN</td>\n",
       "      <td>NaN</td>\n",
       "      <td>NaN</td>\n",
       "      <td>NaN</td>\n",
       "      <td>NaN</td>\n",
       "      <td>NaN</td>\n",
       "      <td>NaN</td>\n",
       "      <td>NaN</td>\n",
       "      <td>NaN</td>\n",
       "      <td>NaN</td>\n",
       "    </tr>\n",
       "    <tr>\n",
       "      <th>100002</th>\n",
       "      <td>9251.775</td>\n",
       "      <td>9251.775</td>\n",
       "      <td>9251.775</td>\n",
       "      <td>179055.0</td>\n",
       "      <td>179055.0</td>\n",
       "      <td>179055.0</td>\n",
       "      <td>179055.0</td>\n",
       "      <td>179055.0</td>\n",
       "      <td>179055.0</td>\n",
       "      <td>1.000000</td>\n",
       "      <td>...</td>\n",
       "      <td>NaN</td>\n",
       "      <td>NaN</td>\n",
       "      <td>NaN</td>\n",
       "      <td>NaN</td>\n",
       "      <td>NaN</td>\n",
       "      <td>NaN</td>\n",
       "      <td>NaN</td>\n",
       "      <td>NaN</td>\n",
       "      <td>NaN</td>\n",
       "      <td>NaN</td>\n",
       "    </tr>\n",
       "  </tbody>\n",
       "</table>\n",
       "<p>2 rows × 249 columns</p>\n",
       "</div>"
      ],
      "text/plain": [
       "            PREV_AMT_ANNUITY_MIN  PREV_AMT_ANNUITY_MAX  PREV_AMT_ANNUITY_MEAN  \\\n",
       "SK_ID_CURR                                                                      \n",
       "100001                  3951.000              3951.000               3951.000   \n",
       "100002                  9251.775              9251.775               9251.775   \n",
       "\n",
       "            PREV_AMT_APPLICATION_MIN  PREV_AMT_APPLICATION_MAX  \\\n",
       "SK_ID_CURR                                                       \n",
       "100001                       24835.5                   24835.5   \n",
       "100002                      179055.0                  179055.0   \n",
       "\n",
       "            PREV_AMT_APPLICATION_MEAN  PREV_AMT_CREDIT_MIN  \\\n",
       "SK_ID_CURR                                                   \n",
       "100001                        24835.5              23787.0   \n",
       "100002                       179055.0             179055.0   \n",
       "\n",
       "            PREV_AMT_CREDIT_MAX  PREV_AMT_CREDIT_MEAN  \\\n",
       "SK_ID_CURR                                              \n",
       "100001                  23787.0               23787.0   \n",
       "100002                 179055.0              179055.0   \n",
       "\n",
       "            PREV_APP_CREDIT_PERC_MIN  ...  \\\n",
       "SK_ID_CURR                            ...   \n",
       "100001                      1.044079  ...   \n",
       "100002                      1.000000  ...   \n",
       "\n",
       "            REFUSED_HOUR_APPR_PROCESS_START_MAX  \\\n",
       "SK_ID_CURR                                        \n",
       "100001                                      NaN   \n",
       "100002                                      NaN   \n",
       "\n",
       "            REFUSED_HOUR_APPR_PROCESS_START_MEAN  \\\n",
       "SK_ID_CURR                                         \n",
       "100001                                       NaN   \n",
       "100002                                       NaN   \n",
       "\n",
       "            REFUSED_RATE_DOWN_PAYMENT_MIN  REFUSED_RATE_DOWN_PAYMENT_MAX  \\\n",
       "SK_ID_CURR                                                                 \n",
       "100001                                NaN                            NaN   \n",
       "100002                                NaN                            NaN   \n",
       "\n",
       "            REFUSED_RATE_DOWN_PAYMENT_MEAN  REFUSED_DAYS_DECISION_MIN  \\\n",
       "SK_ID_CURR                                                              \n",
       "100001                                 NaN                        NaN   \n",
       "100002                                 NaN                        NaN   \n",
       "\n",
       "            REFUSED_DAYS_DECISION_MAX  REFUSED_DAYS_DECISION_MEAN  \\\n",
       "SK_ID_CURR                                                          \n",
       "100001                            NaN                         NaN   \n",
       "100002                            NaN                         NaN   \n",
       "\n",
       "            REFUSED_CNT_PAYMENT_MEAN  REFUSED_CNT_PAYMENT_SUM  \n",
       "SK_ID_CURR                                                     \n",
       "100001                           NaN                      NaN  \n",
       "100002                           NaN                      NaN  \n",
       "\n",
       "[2 rows x 249 columns]"
      ]
     },
     "execution_count": 70,
     "metadata": {},
     "output_type": "execute_result"
    }
   ],
   "source": [
    "previous_app.head(2) "
   ]
  },
  {
   "cell_type": "code",
   "execution_count": 71,
   "metadata": {},
   "outputs": [
    {
     "data": {
      "text/plain": [
       "(338857, 249)"
      ]
     },
     "execution_count": 71,
     "metadata": {},
     "output_type": "execute_result"
    }
   ],
   "source": [
    "previous_app.shape"
   ]
  },
  {
   "cell_type": "markdown",
   "metadata": {},
   "source": [
    "# POS Cach balance"
   ]
  },
  {
   "cell_type": "code",
   "execution_count": 72,
   "metadata": {},
   "outputs": [],
   "source": [
    "#4\n",
    "posCachBalance, cat_cols_posCashBalance, oricatcol_posCashBalance = pos_cash(path_poscash='../data/Projet+Mise+en+prod+-+home-credit-default-risk/POS_CASH_balance.csv',\n",
    "         num_rows=None, nan_as_category=True)"
   ]
  },
  {
   "cell_type": "code",
   "execution_count": 73,
   "metadata": {},
   "outputs": [
    {
     "data": {
      "text/html": [
       "<div>\n",
       "<style scoped>\n",
       "    .dataframe tbody tr th:only-of-type {\n",
       "        vertical-align: middle;\n",
       "    }\n",
       "\n",
       "    .dataframe tbody tr th {\n",
       "        vertical-align: top;\n",
       "    }\n",
       "\n",
       "    .dataframe thead th {\n",
       "        text-align: right;\n",
       "    }\n",
       "</style>\n",
       "<table border=\"1\" class=\"dataframe\">\n",
       "  <thead>\n",
       "    <tr style=\"text-align: right;\">\n",
       "      <th></th>\n",
       "      <th>POS_MONTHS_BALANCE_MAX</th>\n",
       "      <th>POS_MONTHS_BALANCE_MEAN</th>\n",
       "      <th>POS_MONTHS_BALANCE_SIZE</th>\n",
       "      <th>POS_SK_DPD_MAX</th>\n",
       "      <th>POS_SK_DPD_MEAN</th>\n",
       "      <th>POS_SK_DPD_DEF_MAX</th>\n",
       "      <th>POS_SK_DPD_DEF_MEAN</th>\n",
       "      <th>POS_NAME_CONTRACT_STATUS_Active_MEAN</th>\n",
       "      <th>POS_NAME_CONTRACT_STATUS_Amortized debt_MEAN</th>\n",
       "      <th>POS_NAME_CONTRACT_STATUS_Approved_MEAN</th>\n",
       "      <th>POS_NAME_CONTRACT_STATUS_Canceled_MEAN</th>\n",
       "      <th>POS_NAME_CONTRACT_STATUS_Completed_MEAN</th>\n",
       "      <th>POS_NAME_CONTRACT_STATUS_Demand_MEAN</th>\n",
       "      <th>POS_NAME_CONTRACT_STATUS_Returned to the store_MEAN</th>\n",
       "      <th>POS_NAME_CONTRACT_STATUS_Signed_MEAN</th>\n",
       "      <th>POS_NAME_CONTRACT_STATUS_XNA_MEAN</th>\n",
       "      <th>POS_NAME_CONTRACT_STATUS_nan_MEAN</th>\n",
       "      <th>POS_COUNT</th>\n",
       "    </tr>\n",
       "    <tr>\n",
       "      <th>SK_ID_CURR</th>\n",
       "      <th></th>\n",
       "      <th></th>\n",
       "      <th></th>\n",
       "      <th></th>\n",
       "      <th></th>\n",
       "      <th></th>\n",
       "      <th></th>\n",
       "      <th></th>\n",
       "      <th></th>\n",
       "      <th></th>\n",
       "      <th></th>\n",
       "      <th></th>\n",
       "      <th></th>\n",
       "      <th></th>\n",
       "      <th></th>\n",
       "      <th></th>\n",
       "      <th></th>\n",
       "      <th></th>\n",
       "    </tr>\n",
       "  </thead>\n",
       "  <tbody>\n",
       "    <tr>\n",
       "      <th>100001</th>\n",
       "      <td>-53</td>\n",
       "      <td>-72.555556</td>\n",
       "      <td>9</td>\n",
       "      <td>7</td>\n",
       "      <td>0.777778</td>\n",
       "      <td>7</td>\n",
       "      <td>0.777778</td>\n",
       "      <td>0.777778</td>\n",
       "      <td>0.0</td>\n",
       "      <td>0.0</td>\n",
       "      <td>0.0</td>\n",
       "      <td>0.222222</td>\n",
       "      <td>0.0</td>\n",
       "      <td>0.0</td>\n",
       "      <td>0.0</td>\n",
       "      <td>0.0</td>\n",
       "      <td>0.0</td>\n",
       "      <td>9</td>\n",
       "    </tr>\n",
       "    <tr>\n",
       "      <th>100002</th>\n",
       "      <td>-1</td>\n",
       "      <td>-10.000000</td>\n",
       "      <td>19</td>\n",
       "      <td>0</td>\n",
       "      <td>0.000000</td>\n",
       "      <td>0</td>\n",
       "      <td>0.000000</td>\n",
       "      <td>1.000000</td>\n",
       "      <td>0.0</td>\n",
       "      <td>0.0</td>\n",
       "      <td>0.0</td>\n",
       "      <td>0.000000</td>\n",
       "      <td>0.0</td>\n",
       "      <td>0.0</td>\n",
       "      <td>0.0</td>\n",
       "      <td>0.0</td>\n",
       "      <td>0.0</td>\n",
       "      <td>19</td>\n",
       "    </tr>\n",
       "  </tbody>\n",
       "</table>\n",
       "</div>"
      ],
      "text/plain": [
       "            POS_MONTHS_BALANCE_MAX  POS_MONTHS_BALANCE_MEAN  \\\n",
       "SK_ID_CURR                                                    \n",
       "100001                         -53               -72.555556   \n",
       "100002                          -1               -10.000000   \n",
       "\n",
       "            POS_MONTHS_BALANCE_SIZE  POS_SK_DPD_MAX  POS_SK_DPD_MEAN  \\\n",
       "SK_ID_CURR                                                             \n",
       "100001                            9               7         0.777778   \n",
       "100002                           19               0         0.000000   \n",
       "\n",
       "            POS_SK_DPD_DEF_MAX  POS_SK_DPD_DEF_MEAN  \\\n",
       "SK_ID_CURR                                            \n",
       "100001                       7             0.777778   \n",
       "100002                       0             0.000000   \n",
       "\n",
       "            POS_NAME_CONTRACT_STATUS_Active_MEAN  \\\n",
       "SK_ID_CURR                                         \n",
       "100001                                  0.777778   \n",
       "100002                                  1.000000   \n",
       "\n",
       "            POS_NAME_CONTRACT_STATUS_Amortized debt_MEAN  \\\n",
       "SK_ID_CURR                                                 \n",
       "100001                                               0.0   \n",
       "100002                                               0.0   \n",
       "\n",
       "            POS_NAME_CONTRACT_STATUS_Approved_MEAN  \\\n",
       "SK_ID_CURR                                           \n",
       "100001                                         0.0   \n",
       "100002                                         0.0   \n",
       "\n",
       "            POS_NAME_CONTRACT_STATUS_Canceled_MEAN  \\\n",
       "SK_ID_CURR                                           \n",
       "100001                                         0.0   \n",
       "100002                                         0.0   \n",
       "\n",
       "            POS_NAME_CONTRACT_STATUS_Completed_MEAN  \\\n",
       "SK_ID_CURR                                            \n",
       "100001                                     0.222222   \n",
       "100002                                     0.000000   \n",
       "\n",
       "            POS_NAME_CONTRACT_STATUS_Demand_MEAN  \\\n",
       "SK_ID_CURR                                         \n",
       "100001                                       0.0   \n",
       "100002                                       0.0   \n",
       "\n",
       "            POS_NAME_CONTRACT_STATUS_Returned to the store_MEAN  \\\n",
       "SK_ID_CURR                                                        \n",
       "100001                                                    0.0     \n",
       "100002                                                    0.0     \n",
       "\n",
       "            POS_NAME_CONTRACT_STATUS_Signed_MEAN  \\\n",
       "SK_ID_CURR                                         \n",
       "100001                                       0.0   \n",
       "100002                                       0.0   \n",
       "\n",
       "            POS_NAME_CONTRACT_STATUS_XNA_MEAN  \\\n",
       "SK_ID_CURR                                      \n",
       "100001                                    0.0   \n",
       "100002                                    0.0   \n",
       "\n",
       "            POS_NAME_CONTRACT_STATUS_nan_MEAN  POS_COUNT  \n",
       "SK_ID_CURR                                                \n",
       "100001                                    0.0          9  \n",
       "100002                                    0.0         19  "
      ]
     },
     "execution_count": 73,
     "metadata": {},
     "output_type": "execute_result"
    }
   ],
   "source": [
    "posCachBalance.head(2) "
   ]
  },
  {
   "cell_type": "code",
   "execution_count": 74,
   "metadata": {},
   "outputs": [
    {
     "data": {
      "text/plain": [
       "(337252, 18)"
      ]
     },
     "execution_count": 74,
     "metadata": {},
     "output_type": "execute_result"
    }
   ],
   "source": [
    "posCachBalance.shape"
   ]
  },
  {
   "cell_type": "markdown",
   "metadata": {},
   "source": [
    "# Installments payments"
   ]
  },
  {
   "cell_type": "code",
   "execution_count": 75,
   "metadata": {},
   "outputs": [],
   "source": [
    "#5\n",
    "installPayment, cat_cols_installpayment, oricatcol_installpayment = installments_payments(path_installments = '../data/Projet+Mise+en+prod+-+home-credit-default-risk/installments_payments.csv',\n",
    "                      num_rows=None, nan_as_category=True)"
   ]
  },
  {
   "cell_type": "code",
   "execution_count": 76,
   "metadata": {},
   "outputs": [
    {
     "data": {
      "text/html": [
       "<div>\n",
       "<style scoped>\n",
       "    .dataframe tbody tr th:only-of-type {\n",
       "        vertical-align: middle;\n",
       "    }\n",
       "\n",
       "    .dataframe tbody tr th {\n",
       "        vertical-align: top;\n",
       "    }\n",
       "\n",
       "    .dataframe thead th {\n",
       "        text-align: right;\n",
       "    }\n",
       "</style>\n",
       "<table border=\"1\" class=\"dataframe\">\n",
       "  <thead>\n",
       "    <tr style=\"text-align: right;\">\n",
       "      <th></th>\n",
       "      <th>INSTAL_NUM_INSTALMENT_VERSION_NUNIQUE</th>\n",
       "      <th>INSTAL_DPD_MAX</th>\n",
       "      <th>INSTAL_DPD_MEAN</th>\n",
       "      <th>INSTAL_DPD_SUM</th>\n",
       "      <th>INSTAL_DBD_MAX</th>\n",
       "      <th>INSTAL_DBD_MEAN</th>\n",
       "      <th>INSTAL_DBD_SUM</th>\n",
       "      <th>INSTAL_PAYMENT_PERC_MAX</th>\n",
       "      <th>INSTAL_PAYMENT_PERC_MEAN</th>\n",
       "      <th>INSTAL_PAYMENT_PERC_SUM</th>\n",
       "      <th>...</th>\n",
       "      <th>INSTAL_AMT_INSTALMENT_MEAN</th>\n",
       "      <th>INSTAL_AMT_INSTALMENT_SUM</th>\n",
       "      <th>INSTAL_AMT_PAYMENT_MIN</th>\n",
       "      <th>INSTAL_AMT_PAYMENT_MAX</th>\n",
       "      <th>INSTAL_AMT_PAYMENT_MEAN</th>\n",
       "      <th>INSTAL_AMT_PAYMENT_SUM</th>\n",
       "      <th>INSTAL_DAYS_ENTRY_PAYMENT_MAX</th>\n",
       "      <th>INSTAL_DAYS_ENTRY_PAYMENT_MEAN</th>\n",
       "      <th>INSTAL_DAYS_ENTRY_PAYMENT_SUM</th>\n",
       "      <th>INSTAL_COUNT</th>\n",
       "    </tr>\n",
       "    <tr>\n",
       "      <th>SK_ID_CURR</th>\n",
       "      <th></th>\n",
       "      <th></th>\n",
       "      <th></th>\n",
       "      <th></th>\n",
       "      <th></th>\n",
       "      <th></th>\n",
       "      <th></th>\n",
       "      <th></th>\n",
       "      <th></th>\n",
       "      <th></th>\n",
       "      <th></th>\n",
       "      <th></th>\n",
       "      <th></th>\n",
       "      <th></th>\n",
       "      <th></th>\n",
       "      <th></th>\n",
       "      <th></th>\n",
       "      <th></th>\n",
       "      <th></th>\n",
       "      <th></th>\n",
       "      <th></th>\n",
       "    </tr>\n",
       "  </thead>\n",
       "  <tbody>\n",
       "    <tr>\n",
       "      <th>100001</th>\n",
       "      <td>2</td>\n",
       "      <td>11.0</td>\n",
       "      <td>1.571429</td>\n",
       "      <td>11.0</td>\n",
       "      <td>36.0</td>\n",
       "      <td>8.857143</td>\n",
       "      <td>62.0</td>\n",
       "      <td>1.0</td>\n",
       "      <td>1.0</td>\n",
       "      <td>7.0</td>\n",
       "      <td>...</td>\n",
       "      <td>5885.132143</td>\n",
       "      <td>41195.925</td>\n",
       "      <td>3951.000</td>\n",
       "      <td>17397.900</td>\n",
       "      <td>5885.132143</td>\n",
       "      <td>41195.925</td>\n",
       "      <td>-1628.0</td>\n",
       "      <td>-2195.000000</td>\n",
       "      <td>-15365.0</td>\n",
       "      <td>7</td>\n",
       "    </tr>\n",
       "    <tr>\n",
       "      <th>100002</th>\n",
       "      <td>2</td>\n",
       "      <td>0.0</td>\n",
       "      <td>0.000000</td>\n",
       "      <td>0.0</td>\n",
       "      <td>31.0</td>\n",
       "      <td>20.421053</td>\n",
       "      <td>388.0</td>\n",
       "      <td>1.0</td>\n",
       "      <td>1.0</td>\n",
       "      <td>19.0</td>\n",
       "      <td>...</td>\n",
       "      <td>11559.247105</td>\n",
       "      <td>219625.695</td>\n",
       "      <td>9251.775</td>\n",
       "      <td>53093.745</td>\n",
       "      <td>11559.247105</td>\n",
       "      <td>219625.695</td>\n",
       "      <td>-49.0</td>\n",
       "      <td>-315.421053</td>\n",
       "      <td>-5993.0</td>\n",
       "      <td>19</td>\n",
       "    </tr>\n",
       "  </tbody>\n",
       "</table>\n",
       "<p>2 rows × 26 columns</p>\n",
       "</div>"
      ],
      "text/plain": [
       "            INSTAL_NUM_INSTALMENT_VERSION_NUNIQUE  INSTAL_DPD_MAX  \\\n",
       "SK_ID_CURR                                                          \n",
       "100001                                          2            11.0   \n",
       "100002                                          2             0.0   \n",
       "\n",
       "            INSTAL_DPD_MEAN  INSTAL_DPD_SUM  INSTAL_DBD_MAX  INSTAL_DBD_MEAN  \\\n",
       "SK_ID_CURR                                                                     \n",
       "100001             1.571429            11.0            36.0         8.857143   \n",
       "100002             0.000000             0.0            31.0        20.421053   \n",
       "\n",
       "            INSTAL_DBD_SUM  INSTAL_PAYMENT_PERC_MAX  INSTAL_PAYMENT_PERC_MEAN  \\\n",
       "SK_ID_CURR                                                                      \n",
       "100001                62.0                      1.0                       1.0   \n",
       "100002               388.0                      1.0                       1.0   \n",
       "\n",
       "            INSTAL_PAYMENT_PERC_SUM  ...  INSTAL_AMT_INSTALMENT_MEAN  \\\n",
       "SK_ID_CURR                           ...                               \n",
       "100001                          7.0  ...                 5885.132143   \n",
       "100002                         19.0  ...                11559.247105   \n",
       "\n",
       "            INSTAL_AMT_INSTALMENT_SUM  INSTAL_AMT_PAYMENT_MIN  \\\n",
       "SK_ID_CURR                                                      \n",
       "100001                      41195.925                3951.000   \n",
       "100002                     219625.695                9251.775   \n",
       "\n",
       "            INSTAL_AMT_PAYMENT_MAX  INSTAL_AMT_PAYMENT_MEAN  \\\n",
       "SK_ID_CURR                                                    \n",
       "100001                   17397.900              5885.132143   \n",
       "100002                   53093.745             11559.247105   \n",
       "\n",
       "            INSTAL_AMT_PAYMENT_SUM  INSTAL_DAYS_ENTRY_PAYMENT_MAX  \\\n",
       "SK_ID_CURR                                                          \n",
       "100001                   41195.925                        -1628.0   \n",
       "100002                  219625.695                          -49.0   \n",
       "\n",
       "            INSTAL_DAYS_ENTRY_PAYMENT_MEAN  INSTAL_DAYS_ENTRY_PAYMENT_SUM  \\\n",
       "SK_ID_CURR                                                                  \n",
       "100001                        -2195.000000                       -15365.0   \n",
       "100002                         -315.421053                        -5993.0   \n",
       "\n",
       "            INSTAL_COUNT  \n",
       "SK_ID_CURR                \n",
       "100001                 7  \n",
       "100002                19  \n",
       "\n",
       "[2 rows x 26 columns]"
      ]
     },
     "execution_count": 76,
     "metadata": {},
     "output_type": "execute_result"
    }
   ],
   "source": [
    "installPayment.head(2)"
   ]
  },
  {
   "cell_type": "code",
   "execution_count": 77,
   "metadata": {},
   "outputs": [
    {
     "data": {
      "text/plain": [
       "(339587, 26)"
      ]
     },
     "execution_count": 77,
     "metadata": {},
     "output_type": "execute_result"
    }
   ],
   "source": [
    "installPayment.shape"
   ]
  },
  {
   "cell_type": "code",
   "execution_count": 78,
   "metadata": {},
   "outputs": [
    {
     "name": "stdout",
     "output_type": "stream",
     "text": [
      "Duplicated SK_ID_CURR in homeCredit: 0\n",
      "Duplicated SK_ID_CURR in bureau_agg: 0\n",
      "Duplicated SK_ID_CURR in previous_app: 0\n",
      "Duplicated SK_ID_CURR in posCachBalance: 0\n",
      "Duplicated SK_ID_CURR in installPayment: 0\n"
     ]
    }
   ],
   "source": [
    "print('Duplicated SK_ID_CURR in homeCredit:',homeCredit.index.duplicated().sum())\n",
    "print('Duplicated SK_ID_CURR in bureau_agg:',bureau_agg.index.duplicated().sum())\n",
    "print('Duplicated SK_ID_CURR in previous_app:',previous_app.index.duplicated().sum())\n",
    "print('Duplicated SK_ID_CURR in posCachBalance:',posCachBalance.index.duplicated().sum())\n",
    "print('Duplicated SK_ID_CURR in installPayment:',installPayment.index.duplicated().sum())"
   ]
  },
  {
   "cell_type": "markdown",
   "metadata": {},
   "source": [
    "# Jointures des données"
   ]
  },
  {
   "cell_type": "code",
   "execution_count": 79,
   "metadata": {},
   "outputs": [],
   "source": [
    "joint_data = homeCredit.join([bureau_agg, previous_app, posCachBalance,installPayment], how='inner')"
   ]
  },
  {
   "cell_type": "code",
   "execution_count": 80,
   "metadata": {},
   "outputs": [
    {
     "data": {
      "text/plain": [
       "(288390, 655)"
      ]
     },
     "execution_count": 80,
     "metadata": {},
     "output_type": "execute_result"
    }
   ],
   "source": [
    "joint_data.shape"
   ]
  },
  {
   "cell_type": "markdown",
   "metadata": {},
   "source": [
    "# Collecte des noms des variables réencodée (one hot encodings):"
   ]
  },
  {
   "cell_type": "code",
   "execution_count": 81,
   "metadata": {},
   "outputs": [],
   "source": [
    "info_cat_cols = {'apptrain':{'onehot_cols':cat_apptrain,'catcols':oricatcol_apptrain},\n",
    "                 'prevapp':{'onehot_cols':cat_cols_prevapp, 'catcols':oricatcol_prevapp},\n",
    "                 'bb':{'onehot_cols':cat_bb,'catcols':oricatcol_bb},\n",
    "                 'bureau':{'onehot_cols':cat_bureau,'catcols':oricatcol_bureau},\n",
    "                 'posCashBalance':{'onehot_cols':cat_cols_posCashBalance,'catcols':oricatcol_posCashBalance},\n",
    "                 'installpayment':{'onehot_cols':cat_cols_installpayment,'catcols':oricatcol_installpayment}\n",
    "                }\n",
    "onehot_cols_list = []\n",
    "for i, j in info_cat_cols.items():\n",
    "    onehot_cols_list.append(j[\"onehot_cols\"])\n",
    "all_onehot_cols=sum(onehot_cols_list,[])"
   ]
  },
  {
   "cell_type": "markdown",
   "metadata": {},
   "source": [
    "# Valeurs manquantes"
   ]
  },
  {
   "cell_type": "markdown",
   "metadata": {},
   "source": [
    "## Selection des features avec un taux de remplissage > 50%"
   ]
  },
  {
   "cell_type": "code",
   "execution_count": 82,
   "metadata": {},
   "outputs": [],
   "source": [
    "kept_feature = list(joint_data.isna().sum().index[joint_data.isna().sum()/joint_data.shape[0]<0.5])\n",
    "joint_data_50miss = joint_data[kept_feature].copy()"
   ]
  },
  {
   "cell_type": "code",
   "execution_count": 83,
   "metadata": {},
   "outputs": [],
   "source": [
    "# Exclure toutes les lignes dont les target sont inconnu\n",
    "joint_data_50miss = joint_data_50miss.loc[~joint_data_50miss['TARGET'].isna(),:]"
   ]
  },
  {
   "cell_type": "code",
   "execution_count": 84,
   "metadata": {},
   "outputs": [],
   "source": [
    "suffixe = [\"_MAX\",\"_MIN\",\"_SUM\",\"_VAR\",\"_MODE\",\"_AVG\"] \n",
    "total_colonnes = joint_data_50miss.columns\n",
    "for i in suffixe:\n",
    "    total_colonnes = total_colonnes[~total_colonnes.str.endswith(i)]\n",
    "joint_data_50miss_clear1 = joint_data_50miss[total_colonnes]"
   ]
  },
  {
   "cell_type": "code",
   "execution_count": 85,
   "metadata": {},
   "outputs": [
    {
     "data": {
      "text/plain": [
       "float64    376\n",
       "bool       133\n",
       "int64       56\n",
       "Name: count, dtype: int64"
      ]
     },
     "execution_count": 85,
     "metadata": {},
     "output_type": "execute_result"
    }
   ],
   "source": [
    "# Number of each type of column\n",
    "joint_data_50miss.dtypes.value_counts()"
   ]
  },
  {
   "cell_type": "code",
   "execution_count": 86,
   "metadata": {},
   "outputs": [
    {
     "data": {
      "text/plain": [
       "(247028, 459)"
      ]
     },
     "execution_count": 86,
     "metadata": {},
     "output_type": "execute_result"
    }
   ],
   "source": [
    "joint_data_50miss_clear1.shape"
   ]
  },
  {
   "cell_type": "code",
   "execution_count": 87,
   "metadata": {},
   "outputs": [
    {
     "data": {
      "image/png": "[encoded data removed]",
      "text/plain": [
       "<Figure size 1224x432 with 1 Axes>"
      ]
     },
     "metadata": {
      "needs_background": "light"
     },
     "output_type": "display_data"
    },
    {
     "data": {
      "image/png": "[encoded data removed]",
      "text/plain": [
       "<Figure size 1224x432 with 1 Axes>"
      ]
     },
     "metadata": {
      "needs_background": "light"
     },
     "output_type": "display_data"
    },
    {
     "data": {
      "image/png": "[encoded data removed]",
      "text/plain": [
       "<Figure size 1224x432 with 1 Axes>"
      ]
     },
     "metadata": {
      "needs_background": "light"
     },
     "output_type": "display_data"
    },
    {
     "data": {
      "image/png": "[encoded data removed]",
      "text/plain": [
       "<Figure size 1224x432 with 1 Axes>"
      ]
     },
     "metadata": {
      "needs_background": "light"
     },
     "output_type": "display_data"
    },
    {
     "data": {
      "image/png": "[encoded data removed]",
      "text/plain": [
       "<Figure size 1224x432 with 1 Axes>"
      ]
     },
     "metadata": {
      "needs_background": "light"
     },
     "output_type": "display_data"
    }
   ],
   "source": [
    "plt.figure(figsize=(17, 6))  \n",
    "ax = sb.barplot((joint_data_50miss_clear1.iloc[:,0:25].isna().sum()*100/joint_data_50miss_clear1.iloc[:,0:25].shape[0]).sort_values() )\n",
    "plt.xticks(rotation=90, fontsize=10)\n",
    "plt.yticks(fontsize=12)\n",
    "plt.show()\n",
    "\n",
    "plt.figure(figsize=(17, 6))  \n",
    "ax = sb.barplot((joint_data_50miss_clear1.iloc[:,25:50].isna().sum()*100/joint_data_50miss_clear1.iloc[:,25:50].shape[0]).sort_values() )\n",
    "plt.xticks(rotation=90, fontsize=10)\n",
    "plt.yticks(fontsize=12)\n",
    "plt.show()\n",
    "\n",
    "plt.figure(figsize=(17, 6))  \n",
    "ax = sb.barplot((joint_data_50miss_clear1.iloc[:,50:75].isna().sum()*100/joint_data_50miss_clear1.iloc[:,50:75].shape[0]).sort_values() )\n",
    "plt.xticks(rotation=90, fontsize=10)\n",
    "plt.yticks(fontsize=12)\n",
    "plt.show()\n",
    "\n",
    "plt.figure(figsize=(17, 6))  \n",
    "ax = sb.barplot((joint_data_50miss_clear1.iloc[:,75:100].isna().sum()*100/joint_data_50miss_clear1.iloc[:,75:100].shape[0]).sort_values() )\n",
    "plt.xticks(rotation=90, fontsize=10)\n",
    "plt.yticks(fontsize=12)\n",
    "plt.show()\n",
    "\n",
    "plt.figure(figsize=(17, 6))  \n",
    "ax = sb.barplot((joint_data_50miss_clear1.iloc[:,100:133].isna().sum()*100/joint_data_50miss_clear1.iloc[:,100:133].shape[0]).sort_values() )\n",
    "plt.xticks(rotation=90, fontsize=10)\n",
    "plt.yticks(fontsize=12)\n",
    "plt.show()"
   ]
  },
  {
   "cell_type": "code",
   "execution_count": 88,
   "metadata": {},
   "outputs": [
    {
     "data": {
      "text/html": [
       "<div>\n",
       "<style scoped>\n",
       "    .dataframe tbody tr th:only-of-type {\n",
       "        vertical-align: middle;\n",
       "    }\n",
       "\n",
       "    .dataframe tbody tr th {\n",
       "        vertical-align: top;\n",
       "    }\n",
       "\n",
       "    .dataframe thead th {\n",
       "        text-align: right;\n",
       "    }\n",
       "</style>\n",
       "<table border=\"1\" class=\"dataframe\">\n",
       "  <thead>\n",
       "    <tr style=\"text-align: right;\">\n",
       "      <th></th>\n",
       "      <th>TARGET</th>\n",
       "      <th>CODE_GENDER</th>\n",
       "      <th>FLAG_OWN_CAR</th>\n",
       "      <th>FLAG_OWN_REALTY</th>\n",
       "      <th>CNT_CHILDREN</th>\n",
       "      <th>AMT_INCOME_TOTAL</th>\n",
       "      <th>AMT_CREDIT</th>\n",
       "      <th>AMT_ANNUITY</th>\n",
       "      <th>AMT_GOODS_PRICE</th>\n",
       "      <th>REGION_POPULATION_RELATIVE</th>\n",
       "      <th>...</th>\n",
       "      <th>POS_COUNT</th>\n",
       "      <th>INSTAL_NUM_INSTALMENT_VERSION_NUNIQUE</th>\n",
       "      <th>INSTAL_DPD_MEAN</th>\n",
       "      <th>INSTAL_DBD_MEAN</th>\n",
       "      <th>INSTAL_PAYMENT_PERC_MEAN</th>\n",
       "      <th>INSTAL_PAYMENT_DIFF_MEAN</th>\n",
       "      <th>INSTAL_AMT_INSTALMENT_MEAN</th>\n",
       "      <th>INSTAL_AMT_PAYMENT_MEAN</th>\n",
       "      <th>INSTAL_DAYS_ENTRY_PAYMENT_MEAN</th>\n",
       "      <th>INSTAL_COUNT</th>\n",
       "    </tr>\n",
       "  </thead>\n",
       "  <tbody>\n",
       "    <tr>\n",
       "      <th>count</th>\n",
       "      <td>247028.000000</td>\n",
       "      <td>247028.000000</td>\n",
       "      <td>247028.000000</td>\n",
       "      <td>247028.000000</td>\n",
       "      <td>247028.000000</td>\n",
       "      <td>2.470280e+05</td>\n",
       "      <td>2.470280e+05</td>\n",
       "      <td>247017.000000</td>\n",
       "      <td>2.468070e+05</td>\n",
       "      <td>247028.000000</td>\n",
       "      <td>...</td>\n",
       "      <td>247028.00000</td>\n",
       "      <td>247028.000000</td>\n",
       "      <td>247028.000000</td>\n",
       "      <td>247028.000000</td>\n",
       "      <td>247011.000000</td>\n",
       "      <td>247022.000000</td>\n",
       "      <td>2.470280e+05</td>\n",
       "      <td>2.470220e+05</td>\n",
       "      <td>247022.000000</td>\n",
       "      <td>247028.000000</td>\n",
       "    </tr>\n",
       "    <tr>\n",
       "      <th>mean</th>\n",
       "      <td>0.078064</td>\n",
       "      <td>0.667843</td>\n",
       "      <td>0.346653</td>\n",
       "      <td>0.294610</td>\n",
       "      <td>0.429623</td>\n",
       "      <td>1.698130e+05</td>\n",
       "      <td>5.984664e+05</td>\n",
       "      <td>27089.199383</td>\n",
       "      <td>5.376714e+05</td>\n",
       "      <td>0.020590</td>\n",
       "      <td>...</td>\n",
       "      <td>30.06462</td>\n",
       "      <td>2.308710</td>\n",
       "      <td>1.049402</td>\n",
       "      <td>12.290366</td>\n",
       "      <td>1.392841</td>\n",
       "      <td>-385.908628</td>\n",
       "      <td>1.864222e+04</td>\n",
       "      <td>1.902674e+04</td>\n",
       "      <td>-935.565002</td>\n",
       "      <td>40.404282</td>\n",
       "    </tr>\n",
       "    <tr>\n",
       "      <th>std</th>\n",
       "      <td>0.268273</td>\n",
       "      <td>0.470988</td>\n",
       "      <td>0.475905</td>\n",
       "      <td>0.455868</td>\n",
       "      <td>0.730906</td>\n",
       "      <td>2.538563e+05</td>\n",
       "      <td>3.942043e+05</td>\n",
       "      <td>14036.886026</td>\n",
       "      <td>3.606640e+05</td>\n",
       "      <td>0.013483</td>\n",
       "      <td>...</td>\n",
       "      <td>24.46051</td>\n",
       "      <td>1.820684</td>\n",
       "      <td>8.883646</td>\n",
       "      <td>9.054209</td>\n",
       "      <td>30.441122</td>\n",
       "      <td>5252.225760</td>\n",
       "      <td>2.324917e+04</td>\n",
       "      <td>2.506037e+04</td>\n",
       "      <td>584.741120</td>\n",
       "      <td>41.119592</td>\n",
       "    </tr>\n",
       "    <tr>\n",
       "      <th>min</th>\n",
       "      <td>0.000000</td>\n",
       "      <td>0.000000</td>\n",
       "      <td>0.000000</td>\n",
       "      <td>0.000000</td>\n",
       "      <td>0.000000</td>\n",
       "      <td>2.610000e+04</td>\n",
       "      <td>4.500000e+04</td>\n",
       "      <td>1615.500000</td>\n",
       "      <td>4.050000e+04</td>\n",
       "      <td>0.000290</td>\n",
       "      <td>...</td>\n",
       "      <td>1.00000</td>\n",
       "      <td>1.000000</td>\n",
       "      <td>0.000000</td>\n",
       "      <td>0.000000</td>\n",
       "      <td>0.333333</td>\n",
       "      <td>-337496.805000</td>\n",
       "      <td>0.000000e+00</td>\n",
       "      <td>3.132000e+01</td>\n",
       "      <td>-2943.000000</td>\n",
       "      <td>1.000000</td>\n",
       "    </tr>\n",
       "    <tr>\n",
       "      <th>25%</th>\n",
       "      <td>0.000000</td>\n",
       "      <td>0.000000</td>\n",
       "      <td>0.000000</td>\n",
       "      <td>0.000000</td>\n",
       "      <td>0.000000</td>\n",
       "      <td>1.125000e+05</td>\n",
       "      <td>2.700000e+05</td>\n",
       "      <td>16681.500000</td>\n",
       "      <td>2.385000e+05</td>\n",
       "      <td>0.010006</td>\n",
       "      <td>...</td>\n",
       "      <td>12.00000</td>\n",
       "      <td>1.000000</td>\n",
       "      <td>0.000000</td>\n",
       "      <td>6.750000</td>\n",
       "      <td>0.952830</td>\n",
       "      <td>0.000000</td>\n",
       "      <td>7.899108e+03</td>\n",
       "      <td>7.576393e+03</td>\n",
       "      <td>-1323.567926</td>\n",
       "      <td>12.000000</td>\n",
       "    </tr>\n",
       "    <tr>\n",
       "      <th>50%</th>\n",
       "      <td>0.000000</td>\n",
       "      <td>1.000000</td>\n",
       "      <td>0.000000</td>\n",
       "      <td>0.000000</td>\n",
       "      <td>0.000000</td>\n",
       "      <td>1.575000e+05</td>\n",
       "      <td>5.185620e+05</td>\n",
       "      <td>25042.500000</td>\n",
       "      <td>4.500000e+05</td>\n",
       "      <td>0.018850</td>\n",
       "      <td>...</td>\n",
       "      <td>23.00000</td>\n",
       "      <td>2.000000</td>\n",
       "      <td>0.043478</td>\n",
       "      <td>10.150000</td>\n",
       "      <td>1.000000</td>\n",
       "      <td>0.000000</td>\n",
       "      <td>1.271083e+04</td>\n",
       "      <td>1.237473e+04</td>\n",
       "      <td>-834.036304</td>\n",
       "      <td>26.000000</td>\n",
       "    </tr>\n",
       "    <tr>\n",
       "      <th>75%</th>\n",
       "      <td>0.000000</td>\n",
       "      <td>1.000000</td>\n",
       "      <td>1.000000</td>\n",
       "      <td>1.000000</td>\n",
       "      <td>1.000000</td>\n",
       "      <td>2.025000e+05</td>\n",
       "      <td>8.086500e+05</td>\n",
       "      <td>34668.000000</td>\n",
       "      <td>6.795000e+05</td>\n",
       "      <td>0.028663</td>\n",
       "      <td>...</td>\n",
       "      <td>40.00000</td>\n",
       "      <td>3.000000</td>\n",
       "      <td>0.525000</td>\n",
       "      <td>15.133333</td>\n",
       "      <td>1.000000</td>\n",
       "      <td>455.940470</td>\n",
       "      <td>2.167960e+04</td>\n",
       "      <td>2.167350e+04</td>\n",
       "      <td>-457.000000</td>\n",
       "      <td>51.000000</td>\n",
       "    </tr>\n",
       "    <tr>\n",
       "      <th>max</th>\n",
       "      <td>1.000000</td>\n",
       "      <td>1.000000</td>\n",
       "      <td>1.000000</td>\n",
       "      <td>1.000000</td>\n",
       "      <td>19.000000</td>\n",
       "      <td>1.170000e+08</td>\n",
       "      <td>3.956274e+06</td>\n",
       "      <td>225000.000000</td>\n",
       "      <td>3.825000e+06</td>\n",
       "      <td>0.072508</td>\n",
       "      <td>...</td>\n",
       "      <td>295.00000</td>\n",
       "      <td>53.000000</td>\n",
       "      <td>1885.386364</td>\n",
       "      <td>295.000000</td>\n",
       "      <td>8482.446155</td>\n",
       "      <td>146145.900000</td>\n",
       "      <td>2.291331e+06</td>\n",
       "      <td>2.291331e+06</td>\n",
       "      <td>-7.000000</td>\n",
       "      <td>372.000000</td>\n",
       "    </tr>\n",
       "  </tbody>\n",
       "</table>\n",
       "<p>8 rows × 326 columns</p>\n",
       "</div>"
      ],
      "text/plain": [
       "              TARGET    CODE_GENDER   FLAG_OWN_CAR  FLAG_OWN_REALTY  \\\n",
       "count  247028.000000  247028.000000  247028.000000    247028.000000   \n",
       "mean        0.078064       0.667843       0.346653         0.294610   \n",
       "std         0.268273       0.470988       0.475905         0.455868   \n",
       "min         0.000000       0.000000       0.000000         0.000000   \n",
       "25%         0.000000       0.000000       0.000000         0.000000   \n",
       "50%         0.000000       1.000000       0.000000         0.000000   \n",
       "75%         0.000000       1.000000       1.000000         1.000000   \n",
       "max         1.000000       1.000000       1.000000         1.000000   \n",
       "\n",
       "        CNT_CHILDREN  AMT_INCOME_TOTAL    AMT_CREDIT    AMT_ANNUITY  \\\n",
       "count  247028.000000      2.470280e+05  2.470280e+05  247017.000000   \n",
       "mean        0.429623      1.698130e+05  5.984664e+05   27089.199383   \n",
       "std         0.730906      2.538563e+05  3.942043e+05   14036.886026   \n",
       "min         0.000000      2.610000e+04  4.500000e+04    1615.500000   \n",
       "25%         0.000000      1.125000e+05  2.700000e+05   16681.500000   \n",
       "50%         0.000000      1.575000e+05  5.185620e+05   25042.500000   \n",
       "75%         1.000000      2.025000e+05  8.086500e+05   34668.000000   \n",
       "max        19.000000      1.170000e+08  3.956274e+06  225000.000000   \n",
       "\n",
       "       AMT_GOODS_PRICE  REGION_POPULATION_RELATIVE  ...     POS_COUNT  \\\n",
       "count     2.468070e+05               247028.000000  ...  247028.00000   \n",
       "mean      5.376714e+05                    0.020590  ...      30.06462   \n",
       "std       3.606640e+05                    0.013483  ...      24.46051   \n",
       "min       4.050000e+04                    0.000290  ...       1.00000   \n",
       "25%       2.385000e+05                    0.010006  ...      12.00000   \n",
       "50%       4.500000e+05                    0.018850  ...      23.00000   \n",
       "75%       6.795000e+05                    0.028663  ...      40.00000   \n",
       "max       3.825000e+06                    0.072508  ...     295.00000   \n",
       "\n",
       "       INSTAL_NUM_INSTALMENT_VERSION_NUNIQUE  INSTAL_DPD_MEAN  \\\n",
       "count                          247028.000000    247028.000000   \n",
       "mean                                2.308710         1.049402   \n",
       "std                                 1.820684         8.883646   \n",
       "min                                 1.000000         0.000000   \n",
       "25%                                 1.000000         0.000000   \n",
       "50%                                 2.000000         0.043478   \n",
       "75%                                 3.000000         0.525000   \n",
       "max                                53.000000      1885.386364   \n",
       "\n",
       "       INSTAL_DBD_MEAN  INSTAL_PAYMENT_PERC_MEAN  INSTAL_PAYMENT_DIFF_MEAN  \\\n",
       "count    247028.000000             247011.000000             247022.000000   \n",
       "mean         12.290366                  1.392841               -385.908628   \n",
       "std           9.054209                 30.441122               5252.225760   \n",
       "min           0.000000                  0.333333            -337496.805000   \n",
       "25%           6.750000                  0.952830                  0.000000   \n",
       "50%          10.150000                  1.000000                  0.000000   \n",
       "75%          15.133333                  1.000000                455.940470   \n",
       "max         295.000000               8482.446155             146145.900000   \n",
       "\n",
       "       INSTAL_AMT_INSTALMENT_MEAN  INSTAL_AMT_PAYMENT_MEAN  \\\n",
       "count                2.470280e+05             2.470220e+05   \n",
       "mean                 1.864222e+04             1.902674e+04   \n",
       "std                  2.324917e+04             2.506037e+04   \n",
       "min                  0.000000e+00             3.132000e+01   \n",
       "25%                  7.899108e+03             7.576393e+03   \n",
       "50%                  1.271083e+04             1.237473e+04   \n",
       "75%                  2.167960e+04             2.167350e+04   \n",
       "max                  2.291331e+06             2.291331e+06   \n",
       "\n",
       "       INSTAL_DAYS_ENTRY_PAYMENT_MEAN   INSTAL_COUNT  \n",
       "count                   247022.000000  247028.000000  \n",
       "mean                      -935.565002      40.404282  \n",
       "std                        584.741120      41.119592  \n",
       "min                      -2943.000000       1.000000  \n",
       "25%                      -1323.567926      12.000000  \n",
       "50%                       -834.036304      26.000000  \n",
       "75%                       -457.000000      51.000000  \n",
       "max                         -7.000000     372.000000  \n",
       "\n",
       "[8 rows x 326 columns]"
      ]
     },
     "execution_count": 88,
     "metadata": {},
     "output_type": "execute_result"
    }
   ],
   "source": [
    "res_describe = joint_data_50miss_clear1.describe()\n",
    "res_describe"
   ]
  },
  {
   "cell_type": "code",
   "execution_count": 89,
   "metadata": {},
   "outputs": [
    {
     "data": {
      "text/plain": [
       "(247028, 459)"
      ]
     },
     "execution_count": 89,
     "metadata": {},
     "output_type": "execute_result"
    }
   ],
   "source": [
    "df = joint_data_50miss_clear1.copy()\n",
    "df.shape"
   ]
  },
  {
   "cell_type": "code",
   "execution_count": 90,
   "metadata": {},
   "outputs": [
    {
     "data": {
      "text/plain": [
       "PREV_NAME_PRODUCT_TYPE_nan_MEAN     1\n",
       "NAME_INCOME_TYPE_Maternity leave    1\n",
       "PREV_CHANNEL_TYPE_nan_MEAN          1\n",
       "NAME_INCOME_TYPE_Businessman        1\n",
       "NAME_FAMILY_STATUS_Unknown          1\n",
       "dtype: int64"
      ]
     },
     "execution_count": 90,
     "metadata": {},
     "output_type": "execute_result"
    }
   ],
   "source": [
    "df.apply(lambda x: len(x.unique())).sort_values().head()"
   ]
  },
  {
   "cell_type": "code",
   "execution_count": 91,
   "metadata": {},
   "outputs": [],
   "source": [
    "df = df[res_describe.columns[(res_describe.loc['std',:]!=0).values]]"
   ]
  },
  {
   "cell_type": "code",
   "execution_count": 92,
   "metadata": {},
   "outputs": [
    {
     "data": {
      "text/plain": [
       "TARGET                     2\n",
       "FLAG_DOCUMENT_15           2\n",
       "REG_CITY_NOT_WORK_CITY     2\n",
       "LIVE_CITY_NOT_WORK_CITY    2\n",
       "FLAG_DOCUMENT_21           2\n",
       "dtype: int64"
      ]
     },
     "execution_count": 92,
     "metadata": {},
     "output_type": "execute_result"
    }
   ],
   "source": [
    "df.apply(lambda x: len(x.unique())).sort_values().head()"
   ]
  },
  {
   "cell_type": "code",
   "execution_count": 93,
   "metadata": {},
   "outputs": [
    {
     "name": "stdout",
     "output_type": "stream",
     "text": [
      "CODE_GENDER                                   2\n",
      "BURO_CREDIT_TYPE_Mobile operator loan_MEAN    2\n",
      "REG_REGION_NOT_LIVE_REGION                    2\n",
      "REG_REGION_NOT_WORK_REGION                    2\n",
      "LIVE_REGION_NOT_WORK_REGION                   2\n",
      "dtype: int64\n"
     ]
    },
    {
     "data": {
      "text/plain": [
       "CODE_GENDER         0.000008\n",
       "FLAG_OWN_CAR        0.000008\n",
       "FLAG_OWN_REALTY     0.000008\n",
       "CNT_CHILDREN        0.000061\n",
       "AMT_INCOME_TOTAL    0.006327\n",
       "dtype: float64"
      ]
     },
     "execution_count": 93,
     "metadata": {},
     "output_type": "execute_result"
    }
   ],
   "source": [
    "cardinality = (df.drop(['TARGET'],axis = 1).apply(lambda x: len(x.unique())))\n",
    "print(cardinality.sort_values().head())\n",
    "prop_cardinality = cardinality/df.shape[0]\n",
    "prop_cardinality.head()"
   ]
  },
  {
   "cell_type": "code",
   "execution_count": 94,
   "metadata": {},
   "outputs": [],
   "source": [
    "df.to_csv(\"../data/non_imputed_working_data.csv\")"
   ]
  },
  {
   "cell_type": "code",
   "execution_count": 95,
   "metadata": {},
   "outputs": [],
   "source": [
    "df = pd.read_csv(\"../data/non_imputed_working_data.csv\",index_col= 0)"
   ]
  },
  {
   "cell_type": "code",
   "execution_count": 96,
   "metadata": {},
   "outputs": [
    {
     "data": {
      "text/plain": [
       "(247028, 304)"
      ]
     },
     "execution_count": 96,
     "metadata": {},
     "output_type": "execute_result"
    }
   ],
   "source": [
    "df.shape"
   ]
  },
  {
   "cell_type": "code",
   "execution_count": 97,
   "metadata": {},
   "outputs": [
    {
     "data": {
      "text/plain": [
       "<Axes: >"
      ]
     },
     "execution_count": 97,
     "metadata": {},
     "output_type": "execute_result"
    },
    {
     "data": {
      "image/png": "[encoded data removed]",
      "text/plain": [
       "<Figure size 432x288 with 1 Axes>"
      ]
     },
     "metadata": {
      "needs_background": "light"
     },
     "output_type": "display_data"
    }
   ],
   "source": [
    "(df.isna().sum()/df.shape[0]).hist()"
   ]
  },
  {
   "cell_type": "code",
   "execution_count": 98,
   "metadata": {},
   "outputs": [],
   "source": [
    "# Exemple de col_caracteristics pour la simulation\n",
    "col_caracteristics = feature_prop(df=df)"
   ]
  },
  {
   "cell_type": "code",
   "execution_count": 99,
   "metadata": {},
   "outputs": [
    {
     "data": {
      "text/plain": [
       "SK_ID_CURR\n",
       "100002    1.0\n",
       "100003    0.0\n",
       "100004    0.0\n",
       "100007    0.0\n",
       "100008    0.0\n",
       "         ... \n",
       "456247    0.0\n",
       "456249    0.0\n",
       "456253    0.0\n",
       "456254    1.0\n",
       "456255    0.0\n",
       "Name: TARGET, Length: 247028, dtype: float64"
      ]
     },
     "execution_count": 99,
     "metadata": {},
     "output_type": "execute_result"
    }
   ],
   "source": [
    "df['TARGET']"
   ]
  },
  {
   "cell_type": "markdown",
   "metadata": {},
   "source": [
    "## Selection de variable avant imputation"
   ]
  },
  {
   "cell_type": "code",
   "execution_count": 100,
   "metadata": {},
   "outputs": [],
   "source": [
    "# Calculer les corrélations de Pearson entre chaque caractéristique et la cible\n",
    "# refaire pour 50\n",
    "corr = df.corr(method='pearson')"
   ]
  },
  {
   "cell_type": "code",
   "execution_count": 101,
   "metadata": {},
   "outputs": [],
   "source": [
    "# Extraire la valeur de corrélation entre 'X' et 'TARGET'\n",
    "correlation_value = corr.loc[:,'TARGET']"
   ]
  },
  {
   "cell_type": "code",
   "execution_count": 102,
   "metadata": {},
   "outputs": [],
   "source": [
    "selected_variables=list(correlation_value[1::].abs().sort_values(ascending=False).head(20).index)\n",
    "selected_variables.append('TARGET')"
   ]
  },
  {
   "cell_type": "code",
   "execution_count": 103,
   "metadata": {},
   "outputs": [],
   "source": [
    "df_filter=df[selected_variables]"
   ]
  },
  {
   "cell_type": "code",
   "execution_count": null,
   "metadata": {},
   "outputs": [],
   "source": [
    "imputer = KNNImputer(n_neighbors=10)\n",
    "df_filter=df_filter.sample(frac=0.2).copy()\n",
    "imputed_df=imputer.fit_transform(df_filter)"
   ]
  },
  {
   "cell_type": "code",
   "execution_count": null,
   "metadata": {},
   "outputs": [],
   "source": [
    "imputed_df.shape"
   ]
  },
  {
   "cell_type": "code",
   "execution_count": null,
   "metadata": {},
   "outputs": [],
   "source": [
    "df_imputed = pd.DataFrame(imputed_df,columns=df_filter.columns,index=df_filter.index)"
   ]
  },
  {
   "cell_type": "code",
   "execution_count": null,
   "metadata": {},
   "outputs": [],
   "source": [
    "df_imputed.to_csv('../data/imputed_working_data.csv')"
   ]
  },
  {
   "cell_type": "code",
   "execution_count": null,
   "metadata": {},
   "outputs": [],
   "source": []
  },
  {
   "cell_type": "code",
   "execution_count": null,
   "metadata": {},
   "outputs": [],
   "source": []
  }
 ],
 "metadata": {
  "kernelspec": {
   "display_name": "Python 3",
   "language": "python",
   "name": "python3"
  },
  "language_info": {
   "codemirror_mode": {
    "name": "ipython",
    "version": 3
   },
   "file_extension": ".py",
   "mimetype": "text/x-python",
   "name": "python",
   "nbconvert_exporter": "python",
   "pygments_lexer": "ipython3",
   "version": "3.8.10"
  }
 },
 "nbformat": 4,
 "nbformat_minor": 4
}
